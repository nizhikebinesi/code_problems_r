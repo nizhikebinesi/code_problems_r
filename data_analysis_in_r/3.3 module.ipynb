{
 "cells": [
  {
   "cell_type": "markdown",
   "metadata": {},
   "source": [
    "## 3.3\n",
    "### Task 1"
   ]
  },
  {
   "cell_type": "code",
   "execution_count": 2,
   "metadata": {},
   "outputs": [],
   "source": [
    "model_full <- lm(rating ~ ., data = attitude)\n",
    "model_null <- lm(rating ~ 1, data = attitude)"
   ]
  },
  {
   "cell_type": "code",
   "execution_count": 5,
   "metadata": {},
   "outputs": [
    {
     "data": {
      "text/plain": [
       "$lower\n",
       "\n",
       "Call:\n",
       "lm(formula = rating ~ 1, data = attitude)\n",
       "\n",
       "Coefficients:\n",
       "(Intercept)  \n",
       "      64.63  \n",
       "\n",
       "\n",
       "$upper\n",
       "\n",
       "Call:\n",
       "lm(formula = rating ~ ., data = attitude)\n",
       "\n",
       "Coefficients:\n",
       "(Intercept)   complaints   privileges     learning       raises     critical  \n",
       "   10.78708      0.61319     -0.07305      0.32033      0.08173      0.03838  \n",
       "    advance  \n",
       "   -0.21706  \n",
       "\n"
      ]
     },
     "metadata": {},
     "output_type": "display_data"
    }
   ],
   "source": [
    "scope = list(lower = model_null, upper = model_full)\n",
    "scope"
   ]
  },
  {
   "cell_type": "code",
   "execution_count": 4,
   "metadata": {},
   "outputs": [],
   "source": [
    "?step"
   ]
  },
  {
   "cell_type": "code",
   "execution_count": 9,
   "metadata": {},
   "outputs": [
    {
     "name": "stdout",
     "output_type": "stream",
     "text": [
      "Start:  AIC=123.36\n",
      "rating ~ complaints + privileges + learning + raises + critical + \n",
      "    advance\n",
      "\n",
      "             Df Sum of Sq    RSS    AIC\n",
      "- critical    1      3.41 1152.4 121.45\n",
      "- raises      1      6.80 1155.8 121.54\n",
      "- privileges  1     14.47 1163.5 121.74\n",
      "- advance     1     74.11 1223.1 123.24\n",
      "<none>                    1149.0 123.36\n",
      "- learning    1    180.50 1329.5 125.74\n",
      "- complaints  1    724.80 1873.8 136.04\n",
      "\n",
      "Step:  AIC=121.45\n",
      "rating ~ complaints + privileges + learning + raises + advance\n",
      "\n",
      "             Df Sum of Sq    RSS    AIC\n",
      "- raises      1     10.61 1163.0 119.73\n",
      "- privileges  1     14.16 1166.6 119.82\n",
      "- advance     1     71.27 1223.7 121.25\n",
      "<none>                    1152.4 121.45\n",
      "- learning    1    177.74 1330.1 123.75\n",
      "- complaints  1    724.70 1877.1 134.09\n",
      "\n",
      "Step:  AIC=119.73\n",
      "rating ~ complaints + privileges + learning + advance\n",
      "\n",
      "             Df Sum of Sq    RSS    AIC\n",
      "- privileges  1     16.10 1179.1 118.14\n",
      "- advance     1     61.60 1224.6 119.28\n",
      "<none>                    1163.0 119.73\n",
      "- learning    1    197.03 1360.0 122.42\n",
      "- complaints  1   1165.94 2328.9 138.56\n",
      "\n",
      "Step:  AIC=118.14\n",
      "rating ~ complaints + learning + advance\n",
      "\n",
      "             Df Sum of Sq    RSS    AIC\n",
      "- advance     1     75.54 1254.7 118.00\n",
      "<none>                    1179.1 118.14\n",
      "- learning    1    186.12 1365.2 120.54\n",
      "- complaints  1   1259.91 2439.0 137.94\n",
      "\n",
      "Step:  AIC=118\n",
      "rating ~ complaints + learning\n",
      "\n",
      "             Df Sum of Sq    RSS    AIC\n",
      "<none>                    1254.7 118.00\n",
      "- learning    1    114.73 1369.4 118.63\n",
      "- complaints  1   1370.91 2625.6 138.16\n"
     ]
    }
   ],
   "source": [
    "ideal_model <- step(model_full, scope = scope, direction = 'backward')"
   ]
  },
  {
   "cell_type": "markdown",
   "metadata": {},
   "source": [
    "### Question 1"
   ]
  },
  {
   "cell_type": "code",
   "execution_count": 10,
   "metadata": {},
   "outputs": [
    {
     "data": {
      "text/html": [
       "<table>\n",
       "<thead><tr><th scope=col>Res.Df</th><th scope=col>RSS</th><th scope=col>Df</th><th scope=col>Sum of Sq</th><th scope=col>F</th><th scope=col>Pr(&gt;F)</th></tr></thead>\n",
       "<tbody>\n",
       "\t<tr><td>23       </td><td>1149.000 </td><td>NA       </td><td>       NA</td><td>       NA</td><td>       NA</td></tr>\n",
       "\t<tr><td>27       </td><td>1254.649 </td><td>-4       </td><td>-105.6486</td><td>0.5287028</td><td>0.7157839</td></tr>\n",
       "</tbody>\n",
       "</table>\n"
      ],
      "text/latex": [
       "\\begin{tabular}{r|llllll}\n",
       " Res.Df & RSS & Df & Sum of Sq & F & Pr(>F)\\\\\n",
       "\\hline\n",
       "\t 23        & 1149.000  & NA        &        NA &        NA &        NA\\\\\n",
       "\t 27        & 1254.649  & -4        & -105.6486 & 0.5287028 & 0.7157839\\\\\n",
       "\\end{tabular}\n"
      ],
      "text/markdown": [
       "\n",
       "Res.Df | RSS | Df | Sum of Sq | F | Pr(>F) | \n",
       "|---|---|\n",
       "| 23        | 1149.000  | NA        |        NA |        NA |        NA | \n",
       "| 27        | 1254.649  | -4        | -105.6486 | 0.5287028 | 0.7157839 | \n",
       "\n",
       "\n"
      ],
      "text/plain": [
       "  Res.Df RSS      Df Sum of Sq F         Pr(>F)   \n",
       "1 23     1149.000 NA        NA        NA        NA\n",
       "2 27     1254.649 -4 -105.6486 0.5287028 0.7157839"
      ]
     },
     "metadata": {},
     "output_type": "display_data"
    }
   ],
   "source": [
    "anova(model_full, ideal_model)"
   ]
  },
  {
   "cell_type": "markdown",
   "metadata": {},
   "source": [
    "### Task 3"
   ]
  },
  {
   "cell_type": "code",
   "execution_count": 11,
   "metadata": {},
   "outputs": [
    {
     "data": {
      "text/html": [
       "<table>\n",
       "<thead><tr><th></th><th scope=col>sr</th><th scope=col>pop15</th><th scope=col>pop75</th><th scope=col>dpi</th><th scope=col>ddpi</th></tr></thead>\n",
       "<tbody>\n",
       "\t<tr><th scope=row>Australia</th><td>11.43  </td><td>29.35  </td><td>2.87   </td><td>2329.68</td><td>2.87   </td></tr>\n",
       "\t<tr><th scope=row>Austria</th><td>12.07  </td><td>23.32  </td><td>4.41   </td><td>1507.99</td><td>3.93   </td></tr>\n",
       "\t<tr><th scope=row>Belgium</th><td>13.17  </td><td>23.80  </td><td>4.43   </td><td>2108.47</td><td>3.82   </td></tr>\n",
       "\t<tr><th scope=row>Bolivia</th><td> 5.75  </td><td>41.89  </td><td>1.67   </td><td> 189.13</td><td>0.22   </td></tr>\n",
       "\t<tr><th scope=row>Brazil</th><td>12.88  </td><td>42.19  </td><td>0.83   </td><td> 728.47</td><td>4.56   </td></tr>\n",
       "</tbody>\n",
       "</table>\n"
      ],
      "text/latex": [
       "\\begin{tabular}{r|lllll}\n",
       "  & sr & pop15 & pop75 & dpi & ddpi\\\\\n",
       "\\hline\n",
       "\tAustralia & 11.43   & 29.35   & 2.87    & 2329.68 & 2.87   \\\\\n",
       "\tAustria & 12.07   & 23.32   & 4.41    & 1507.99 & 3.93   \\\\\n",
       "\tBelgium & 13.17   & 23.80   & 4.43    & 2108.47 & 3.82   \\\\\n",
       "\tBolivia &  5.75   & 41.89   & 1.67    &  189.13 & 0.22   \\\\\n",
       "\tBrazil & 12.88   & 42.19   & 0.83    &  728.47 & 4.56   \\\\\n",
       "\\end{tabular}\n"
      ],
      "text/markdown": [
       "\n",
       "| <!--/--> | sr | pop15 | pop75 | dpi | ddpi | \n",
       "|---|---|---|---|---|\n",
       "| Australia | 11.43   | 29.35   | 2.87    | 2329.68 | 2.87    | \n",
       "| Austria | 12.07   | 23.32   | 4.41    | 1507.99 | 3.93    | \n",
       "| Belgium | 13.17   | 23.80   | 4.43    | 2108.47 | 3.82    | \n",
       "| Bolivia |  5.75   | 41.89   | 1.67    |  189.13 | 0.22    | \n",
       "| Brazil | 12.88   | 42.19   | 0.83    |  728.47 | 4.56    | \n",
       "\n",
       "\n"
      ],
      "text/plain": [
       "          sr    pop15 pop75 dpi     ddpi\n",
       "Australia 11.43 29.35 2.87  2329.68 2.87\n",
       "Austria   12.07 23.32 4.41  1507.99 3.93\n",
       "Belgium   13.17 23.80 4.43  2108.47 3.82\n",
       "Bolivia    5.75 41.89 1.67   189.13 0.22\n",
       "Brazil    12.88 42.19 0.83   728.47 4.56"
      ]
     },
     "metadata": {},
     "output_type": "display_data"
    }
   ],
   "source": [
    "head(LifeCycleSavings, 5)"
   ]
  },
  {
   "cell_type": "code",
   "execution_count": 13,
   "metadata": {},
   "outputs": [],
   "source": [
    "?formula"
   ]
  },
  {
   "cell_type": "code",
   "execution_count": 15,
   "metadata": {},
   "outputs": [
    {
     "data": {
      "text/plain": [
       "\n",
       "Call:\n",
       "lm(formula = sr ~ .^2, data = LifeCycleSavings)\n",
       "\n",
       "Residuals:\n",
       "    Min      1Q  Median      3Q     Max \n",
       "-7.8162 -2.9265  0.1388  2.2292  9.6419 \n",
       "\n",
       "Coefficients:\n",
       "              Estimate Std. Error t value Pr(>|t|)\n",
       "(Intercept)  9.204e+00  1.877e+01   0.490    0.627\n",
       "pop15       -6.423e-02  3.785e-01  -0.170    0.866\n",
       "pop75        3.886e+00  4.809e+00   0.808    0.424\n",
       "dpi          3.200e-04  1.032e-02   0.031    0.975\n",
       "ddpi         1.126e+00  3.220e+00   0.350    0.728\n",
       "pop15:pop75 -9.288e-02  1.264e-01  -0.735    0.467\n",
       "pop15:dpi   -9.644e-07  2.266e-04  -0.004    0.997\n",
       "pop15:ddpi  -1.151e-02  6.328e-02  -0.182    0.857\n",
       "pop75:dpi   -8.923e-04  1.460e-03  -0.611    0.545\n",
       "pop75:ddpi  -2.863e-01  4.313e-01  -0.664    0.511\n",
       "dpi:ddpi     7.613e-04  7.277e-04   1.046    0.302\n",
       "\n",
       "Residual standard error: 3.851 on 39 degrees of freedom\n",
       "Multiple R-squared:  0.412,\tAdjusted R-squared:  0.2612 \n",
       "F-statistic: 2.733 on 10 and 39 DF,  p-value: 0.01195\n"
      ]
     },
     "metadata": {},
     "output_type": "display_data"
    }
   ],
   "source": [
    "model <- lm(sr ~ .^2, data = LifeCycleSavings)\n",
    "summary(model)"
   ]
  }
 ],
 "metadata": {
  "kernelspec": {
   "display_name": "R 3.4",
   "language": "R",
   "name": "ir34"
  },
  "language_info": {
   "codemirror_mode": "r",
   "file_extension": ".r",
   "mimetype": "text/x-r-source",
   "name": "R",
   "pygments_lexer": "r",
   "version": "3.4.4"
  }
 },
 "nbformat": 4,
 "nbformat_minor": 2
}
