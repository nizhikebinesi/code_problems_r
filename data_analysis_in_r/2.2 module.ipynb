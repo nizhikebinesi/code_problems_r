{
 "cells": [
  {
   "cell_type": "markdown",
   "metadata": {},
   "source": [
    "## 2.2\n",
    "### Task 1\n",
    "Посмотрим на встроенный набор данных в R - ToothGrowth.\n",
    "Эти данные позволяют исследовать рост зубов у морских свинок в зависимости от дозировки витамина C и типа потребляемых продуктов.\n",
    "\n",
    "Непосредственно задание:\n",
    "Сравните среднее значение длины зубов свинок, которые потребляли апельсиновый сок (OJ) с дозировкой 0.5 миллиграмм, со средним значением длины зубов свинок, которые потребляли аскорбиновую кислоту (VC) с дозировкой 2 миллиграмма.\n",
    "<br><br>\n",
    "Взглянем на данные:"
   ]
  },
  {
   "cell_type": "code",
   "execution_count": 3,
   "metadata": {},
   "outputs": [
    {
     "data": {
      "text/html": [
       "<table>\n",
       "<thead><tr><th scope=col>len</th><th scope=col>supp</th><th scope=col>dose</th></tr></thead>\n",
       "<tbody>\n",
       "\t<tr><td> 4.2</td><td>VC  </td><td>0.5 </td></tr>\n",
       "\t<tr><td>11.5</td><td>VC  </td><td>0.5 </td></tr>\n",
       "\t<tr><td> 7.3</td><td>VC  </td><td>0.5 </td></tr>\n",
       "\t<tr><td> 5.8</td><td>VC  </td><td>0.5 </td></tr>\n",
       "\t<tr><td> 6.4</td><td>VC  </td><td>0.5 </td></tr>\n",
       "</tbody>\n",
       "</table>\n"
      ],
      "text/latex": [
       "\\begin{tabular}{r|lll}\n",
       " len & supp & dose\\\\\n",
       "\\hline\n",
       "\t  4.2 & VC   & 0.5 \\\\\n",
       "\t 11.5 & VC   & 0.5 \\\\\n",
       "\t  7.3 & VC   & 0.5 \\\\\n",
       "\t  5.8 & VC   & 0.5 \\\\\n",
       "\t  6.4 & VC   & 0.5 \\\\\n",
       "\\end{tabular}\n"
      ],
      "text/markdown": [
       "\n",
       "len | supp | dose | \n",
       "|---|---|---|---|---|\n",
       "|  4.2 | VC   | 0.5  | \n",
       "| 11.5 | VC   | 0.5  | \n",
       "|  7.3 | VC   | 0.5  | \n",
       "|  5.8 | VC   | 0.5  | \n",
       "|  6.4 | VC   | 0.5  | \n",
       "\n",
       "\n"
      ],
      "text/plain": [
       "  len  supp dose\n",
       "1  4.2 VC   0.5 \n",
       "2 11.5 VC   0.5 \n",
       "3  7.3 VC   0.5 \n",
       "4  5.8 VC   0.5 \n",
       "5  6.4 VC   0.5 "
      ]
     },
     "metadata": {},
     "output_type": "display_data"
    }
   ],
   "source": [
    "head(ToothGrowth, 5)"
   ]
  },
  {
   "cell_type": "code",
   "execution_count": 14,
   "metadata": {},
   "outputs": [
    {
     "data": {
      "text/html": [
       "'list'"
      ],
      "text/latex": [
       "'list'"
      ],
      "text/markdown": [
       "'list'"
      ],
      "text/plain": [
       "[1] \"list\""
      ]
     },
     "metadata": {},
     "output_type": "display_data"
    }
   ],
   "source": [
    "typeof(ToothGrowth)"
   ]
  },
  {
   "cell_type": "code",
   "execution_count": 31,
   "metadata": {},
   "outputs": [],
   "source": [
    "dt <- ToothGrowth\n",
    "dt1 <- subset(dt, dose == 0.5 & supp == \"OJ\")\n",
    "dt2 <- subset(dt, dose == 2.0 & supp == \"VC\")"
   ]
  },
  {
   "cell_type": "code",
   "execution_count": 32,
   "metadata": {},
   "outputs": [
    {
     "data": {
      "text/html": [
       "<table>\n",
       "<thead><tr><th></th><th scope=col>len</th><th scope=col>supp</th><th scope=col>dose</th></tr></thead>\n",
       "<tbody>\n",
       "\t<tr><th scope=row>31</th><td>15.2</td><td>OJ  </td><td>0.5 </td></tr>\n",
       "\t<tr><th scope=row>32</th><td>21.5</td><td>OJ  </td><td>0.5 </td></tr>\n",
       "\t<tr><th scope=row>33</th><td>17.6</td><td>OJ  </td><td>0.5 </td></tr>\n",
       "\t<tr><th scope=row>34</th><td> 9.7</td><td>OJ  </td><td>0.5 </td></tr>\n",
       "\t<tr><th scope=row>35</th><td>14.5</td><td>OJ  </td><td>0.5 </td></tr>\n",
       "\t<tr><th scope=row>36</th><td>10.0</td><td>OJ  </td><td>0.5 </td></tr>\n",
       "\t<tr><th scope=row>37</th><td> 8.2</td><td>OJ  </td><td>0.5 </td></tr>\n",
       "\t<tr><th scope=row>38</th><td> 9.4</td><td>OJ  </td><td>0.5 </td></tr>\n",
       "\t<tr><th scope=row>39</th><td>16.5</td><td>OJ  </td><td>0.5 </td></tr>\n",
       "\t<tr><th scope=row>40</th><td> 9.7</td><td>OJ  </td><td>0.5 </td></tr>\n",
       "</tbody>\n",
       "</table>\n"
      ],
      "text/latex": [
       "\\begin{tabular}{r|lll}\n",
       "  & len & supp & dose\\\\\n",
       "\\hline\n",
       "\t31 & 15.2 & OJ   & 0.5 \\\\\n",
       "\t32 & 21.5 & OJ   & 0.5 \\\\\n",
       "\t33 & 17.6 & OJ   & 0.5 \\\\\n",
       "\t34 &  9.7 & OJ   & 0.5 \\\\\n",
       "\t35 & 14.5 & OJ   & 0.5 \\\\\n",
       "\t36 & 10.0 & OJ   & 0.5 \\\\\n",
       "\t37 &  8.2 & OJ   & 0.5 \\\\\n",
       "\t38 &  9.4 & OJ   & 0.5 \\\\\n",
       "\t39 & 16.5 & OJ   & 0.5 \\\\\n",
       "\t40 &  9.7 & OJ   & 0.5 \\\\\n",
       "\\end{tabular}\n"
      ],
      "text/markdown": [
       "\n",
       "| <!--/--> | len | supp | dose | \n",
       "|---|---|---|---|---|---|---|---|---|---|\n",
       "| 31 | 15.2 | OJ   | 0.5  | \n",
       "| 32 | 21.5 | OJ   | 0.5  | \n",
       "| 33 | 17.6 | OJ   | 0.5  | \n",
       "| 34 |  9.7 | OJ   | 0.5  | \n",
       "| 35 | 14.5 | OJ   | 0.5  | \n",
       "| 36 | 10.0 | OJ   | 0.5  | \n",
       "| 37 |  8.2 | OJ   | 0.5  | \n",
       "| 38 |  9.4 | OJ   | 0.5  | \n",
       "| 39 | 16.5 | OJ   | 0.5  | \n",
       "| 40 |  9.7 | OJ   | 0.5  | \n",
       "\n",
       "\n"
      ],
      "text/plain": [
       "   len  supp dose\n",
       "31 15.2 OJ   0.5 \n",
       "32 21.5 OJ   0.5 \n",
       "33 17.6 OJ   0.5 \n",
       "34  9.7 OJ   0.5 \n",
       "35 14.5 OJ   0.5 \n",
       "36 10.0 OJ   0.5 \n",
       "37  8.2 OJ   0.5 \n",
       "38  9.4 OJ   0.5 \n",
       "39 16.5 OJ   0.5 \n",
       "40  9.7 OJ   0.5 "
      ]
     },
     "metadata": {},
     "output_type": "display_data"
    }
   ],
   "source": [
    "dt1"
   ]
  },
  {
   "cell_type": "code",
   "execution_count": 33,
   "metadata": {},
   "outputs": [
    {
     "data": {
      "text/html": [
       "<table>\n",
       "<thead><tr><th></th><th scope=col>len</th><th scope=col>supp</th><th scope=col>dose</th></tr></thead>\n",
       "<tbody>\n",
       "\t<tr><th scope=row>21</th><td>23.6</td><td>VC  </td><td>2   </td></tr>\n",
       "\t<tr><th scope=row>22</th><td>18.5</td><td>VC  </td><td>2   </td></tr>\n",
       "\t<tr><th scope=row>23</th><td>33.9</td><td>VC  </td><td>2   </td></tr>\n",
       "\t<tr><th scope=row>24</th><td>25.5</td><td>VC  </td><td>2   </td></tr>\n",
       "\t<tr><th scope=row>25</th><td>26.4</td><td>VC  </td><td>2   </td></tr>\n",
       "\t<tr><th scope=row>26</th><td>32.5</td><td>VC  </td><td>2   </td></tr>\n",
       "\t<tr><th scope=row>27</th><td>26.7</td><td>VC  </td><td>2   </td></tr>\n",
       "\t<tr><th scope=row>28</th><td>21.5</td><td>VC  </td><td>2   </td></tr>\n",
       "\t<tr><th scope=row>29</th><td>23.3</td><td>VC  </td><td>2   </td></tr>\n",
       "\t<tr><th scope=row>30</th><td>29.5</td><td>VC  </td><td>2   </td></tr>\n",
       "</tbody>\n",
       "</table>\n"
      ],
      "text/latex": [
       "\\begin{tabular}{r|lll}\n",
       "  & len & supp & dose\\\\\n",
       "\\hline\n",
       "\t21 & 23.6 & VC   & 2   \\\\\n",
       "\t22 & 18.5 & VC   & 2   \\\\\n",
       "\t23 & 33.9 & VC   & 2   \\\\\n",
       "\t24 & 25.5 & VC   & 2   \\\\\n",
       "\t25 & 26.4 & VC   & 2   \\\\\n",
       "\t26 & 32.5 & VC   & 2   \\\\\n",
       "\t27 & 26.7 & VC   & 2   \\\\\n",
       "\t28 & 21.5 & VC   & 2   \\\\\n",
       "\t29 & 23.3 & VC   & 2   \\\\\n",
       "\t30 & 29.5 & VC   & 2   \\\\\n",
       "\\end{tabular}\n"
      ],
      "text/markdown": [
       "\n",
       "| <!--/--> | len | supp | dose | \n",
       "|---|---|---|---|---|---|---|---|---|---|\n",
       "| 21 | 23.6 | VC   | 2    | \n",
       "| 22 | 18.5 | VC   | 2    | \n",
       "| 23 | 33.9 | VC   | 2    | \n",
       "| 24 | 25.5 | VC   | 2    | \n",
       "| 25 | 26.4 | VC   | 2    | \n",
       "| 26 | 32.5 | VC   | 2    | \n",
       "| 27 | 26.7 | VC   | 2    | \n",
       "| 28 | 21.5 | VC   | 2    | \n",
       "| 29 | 23.3 | VC   | 2    | \n",
       "| 30 | 29.5 | VC   | 2    | \n",
       "\n",
       "\n"
      ],
      "text/plain": [
       "   len  supp dose\n",
       "21 23.6 VC   2   \n",
       "22 18.5 VC   2   \n",
       "23 33.9 VC   2   \n",
       "24 25.5 VC   2   \n",
       "25 26.4 VC   2   \n",
       "26 32.5 VC   2   \n",
       "27 26.7 VC   2   \n",
       "28 21.5 VC   2   \n",
       "29 23.3 VC   2   \n",
       "30 29.5 VC   2   "
      ]
     },
     "metadata": {},
     "output_type": "display_data"
    }
   ],
   "source": [
    "dt2"
   ]
  },
  {
   "cell_type": "code",
   "execution_count": 37,
   "metadata": {},
   "outputs": [],
   "source": [
    "ttest <- t.test(dt1$len, dt2$len)\n",
    "t_stat <- ttest$statistic"
   ]
  },
  {
   "cell_type": "markdown",
   "metadata": {},
   "source": [
    "### Question 1\n",
    "\n",
    "По всем испытуемым сравните показатель давления до начала лечения (Pressure_before) с показателем давления после лечения (Pressure_after) при помощи t - критерия для зависимых выборок. "
   ]
  },
  {
   "cell_type": "code",
   "execution_count": 43,
   "metadata": {},
   "outputs": [],
   "source": [
    "url <- \"https://stepic.org/media/attachments/lesson/11504/lekarstva.csv\"\n",
    "dest <- 'some.csv'"
   ]
  },
  {
   "cell_type": "code",
   "execution_count": 47,
   "metadata": {},
   "outputs": [],
   "source": [
    "download.file(url = url, destfile = dest)"
   ]
  },
  {
   "cell_type": "code",
   "execution_count": 49,
   "metadata": {},
   "outputs": [],
   "source": [
    "df <- read.csv('some.csv')"
   ]
  },
  {
   "cell_type": "code",
   "execution_count": 50,
   "metadata": {},
   "outputs": [
    {
     "data": {
      "text/html": [
       "<table>\n",
       "<thead><tr><th scope=col>Group</th><th scope=col>Uroven_sahara_v_krovi</th><th scope=col>Pressure_before</th><th scope=col>Pressure_after</th><th scope=col>Holesterin..Aprel.</th><th scope=col>Holesterin..Mart.</th></tr></thead>\n",
       "<tbody>\n",
       "\t<tr><td>2  </td><td>90 </td><td>170</td><td>135</td><td>235</td><td>205</td></tr>\n",
       "\t<tr><td>2  </td><td>85 </td><td>160</td><td>155</td><td>185</td><td>195</td></tr>\n",
       "\t<tr><td>1  </td><td>95 </td><td>165</td><td>155</td><td>235</td><td>260</td></tr>\n",
       "\t<tr><td>1  </td><td>86 </td><td>170</td><td>165</td><td>155</td><td>136</td></tr>\n",
       "</tbody>\n",
       "</table>\n"
      ],
      "text/latex": [
       "\\begin{tabular}{r|llllll}\n",
       " Group & Uroven\\_sahara\\_v\\_krovi & Pressure\\_before & Pressure\\_after & Holesterin..Aprel. & Holesterin..Mart.\\\\\n",
       "\\hline\n",
       "\t 2   & 90  & 170 & 135 & 235 & 205\\\\\n",
       "\t 2   & 85  & 160 & 155 & 185 & 195\\\\\n",
       "\t 1   & 95  & 165 & 155 & 235 & 260\\\\\n",
       "\t 1   & 86  & 170 & 165 & 155 & 136\\\\\n",
       "\\end{tabular}\n"
      ],
      "text/markdown": [
       "\n",
       "Group | Uroven_sahara_v_krovi | Pressure_before | Pressure_after | Holesterin..Aprel. | Holesterin..Mart. | \n",
       "|---|---|---|---|\n",
       "| 2   | 90  | 170 | 135 | 235 | 205 | \n",
       "| 2   | 85  | 160 | 155 | 185 | 195 | \n",
       "| 1   | 95  | 165 | 155 | 235 | 260 | \n",
       "| 1   | 86  | 170 | 165 | 155 | 136 | \n",
       "\n",
       "\n"
      ],
      "text/plain": [
       "  Group Uroven_sahara_v_krovi Pressure_before Pressure_after Holesterin..Aprel.\n",
       "1 2     90                    170             135            235               \n",
       "2 2     85                    160             155            185               \n",
       "3 1     95                    165             155            235               \n",
       "4 1     86                    170             165            155               \n",
       "  Holesterin..Mart.\n",
       "1 205              \n",
       "2 195              \n",
       "3 260              \n",
       "4 136              "
      ]
     },
     "metadata": {},
     "output_type": "display_data"
    }
   ],
   "source": [
    "head(df, 4)"
   ]
  },
  {
   "cell_type": "code",
   "execution_count": 53,
   "metadata": {},
   "outputs": [
    {
     "name": "stdout",
     "output_type": "stream",
     "text": [
      "       t \n",
      "14.22673 \n"
     ]
    }
   ],
   "source": [
    "y1 <- df$Pressure_before\n",
    "y2 <- df$Pressure_after\n",
    "\n",
    "ttest <- t.test(y1,y2,paired=TRUE)\n",
    "t_stat <- ttest$statistic\n",
    "\n",
    "print(t_stat)"
   ]
  },
  {
   "cell_type": "markdown",
   "metadata": {},
   "source": [
    "### Task 2\n"
   ]
  },
  {
   "cell_type": "code",
   "execution_count": 107,
   "metadata": {},
   "outputs": [
    {
     "data": {
      "text/html": [
       "<table>\n",
       "<thead><tr><th scope=col>V1</th><th scope=col>V2</th></tr></thead>\n",
       "<tbody>\n",
       "\t<tr><td>-1.462</td><td>1     </td></tr>\n",
       "\t<tr><td>-0.741</td><td>1     </td></tr>\n",
       "\t<tr><td>-0.806</td><td>1     </td></tr>\n",
       "\t<tr><td>-0.808</td><td>1     </td></tr>\n",
       "\t<tr><td> 1.217</td><td>1     </td></tr>\n",
       "\t<tr><td>-1.819</td><td>1     </td></tr>\n",
       "</tbody>\n",
       "</table>\n"
      ],
      "text/latex": [
       "\\begin{tabular}{r|ll}\n",
       " V1 & V2\\\\\n",
       "\\hline\n",
       "\t -1.462 & 1     \\\\\n",
       "\t -0.741 & 1     \\\\\n",
       "\t -0.806 & 1     \\\\\n",
       "\t -0.808 & 1     \\\\\n",
       "\t  1.217 & 1     \\\\\n",
       "\t -1.819 & 1     \\\\\n",
       "\\end{tabular}\n"
      ],
      "text/markdown": [
       "\n",
       "V1 | V2 | \n",
       "|---|---|---|---|---|---|\n",
       "| -1.462 | 1      | \n",
       "| -0.741 | 1      | \n",
       "| -0.806 | 1      | \n",
       "| -0.808 | 1      | \n",
       "|  1.217 | 1      | \n",
       "| -1.819 | 1      | \n",
       "\n",
       "\n"
      ],
      "text/plain": [
       "  V1     V2\n",
       "1 -1.462 1 \n",
       "2 -0.741 1 \n",
       "3 -0.806 1 \n",
       "4 -0.808 1 \n",
       "5  1.217 1 \n",
       "6 -1.819 1 "
      ]
     },
     "metadata": {},
     "output_type": "display_data"
    }
   ],
   "source": [
    "df <- read.table(\"dataset_11504_15.txt\")\n",
    "head(df)"
   ]
  },
  {
   "cell_type": "code",
   "execution_count": 108,
   "metadata": {},
   "outputs": [],
   "source": [
    "df1 <- subset(df, V2 == 1)\n",
    "df2 <- subset(df, V2 == 2)"
   ]
  },
  {
   "cell_type": "code",
   "execution_count": 109,
   "metadata": {},
   "outputs": [
    {
     "name": "stdout",
     "output_type": "stream",
     "text": [
      "[1] FALSE\n"
     ]
    }
   ],
   "source": [
    "alpha <- 0.05\n",
    "hom <- bartlett.test(V1 ~ V2, df)$p.value > alpha\n",
    "\n",
    "print(hom)\n",
    "\n",
    "if (hom) {\n",
    "    pval <- t.test(V1 ~ V2, df, var.equal = TRUE)\n",
    "} else {\n",
    "    pval <- wilcox.test(V1 ~ V2, df)\n",
    "}\n",
    "answer <- round(pval$p.value, 4)"
   ]
  },
  {
   "cell_type": "code",
   "execution_count": 110,
   "metadata": {},
   "outputs": [
    {
     "name": "stdout",
     "output_type": "stream",
     "text": [
      "[1] 0.3946\n"
     ]
    }
   ],
   "source": [
    "print(answer)"
   ]
  },
  {
   "cell_type": "code",
   "execution_count": 94,
   "metadata": {},
   "outputs": [],
   "source": [
    "# unlink ( \"dataset_11504_11.txt\" )"
   ]
  },
  {
   "cell_type": "markdown",
   "metadata": {},
   "source": [
    "### Task 3"
   ]
  },
  {
   "cell_type": "code",
   "execution_count": 129,
   "metadata": {},
   "outputs": [
    {
     "data": {
      "text/html": [
       "<table>\n",
       "<thead><tr><th scope=col>V1</th><th scope=col>V2</th></tr></thead>\n",
       "<tbody>\n",
       "\t<tr><td> 0.292</td><td> 0.005</td></tr>\n",
       "\t<tr><td> 1.219</td><td> 1.728</td></tr>\n",
       "\t<tr><td>-0.775</td><td>-0.357</td></tr>\n",
       "</tbody>\n",
       "</table>\n"
      ],
      "text/latex": [
       "\\begin{tabular}{r|ll}\n",
       " V1 & V2\\\\\n",
       "\\hline\n",
       "\t  0.292 &  0.005\\\\\n",
       "\t  1.219 &  1.728\\\\\n",
       "\t -0.775 & -0.357\\\\\n",
       "\\end{tabular}\n"
      ],
      "text/markdown": [
       "\n",
       "V1 | V2 | \n",
       "|---|---|---|\n",
       "|  0.292 |  0.005 | \n",
       "|  1.219 |  1.728 | \n",
       "| -0.775 | -0.357 | \n",
       "\n",
       "\n"
      ],
      "text/plain": [
       "  V1     V2    \n",
       "1  0.292  0.005\n",
       "2  1.219  1.728\n",
       "3 -0.775 -0.357"
      ]
     },
     "metadata": {},
     "output_type": "display_data"
    }
   ],
   "source": [
    "df <- read.table('dataset_11504_16.txt')\n",
    "head(df, 3)"
   ]
  },
  {
   "cell_type": "code",
   "execution_count": 130,
   "metadata": {},
   "outputs": [],
   "source": [
    "x <- t.test(df$V1, df$V2)"
   ]
  },
  {
   "cell_type": "code",
   "execution_count": 132,
   "metadata": {},
   "outputs": [],
   "source": [
    "if (x$p.value < 0.05) {\n",
    "    answer <- c(mean(df$V1), mean(df$V2), x$p.value)\n",
    "} else {\n",
    "    answer <- \"The difference is not significant\"\n",
    "}"
   ]
  },
  {
   "cell_type": "code",
   "execution_count": 133,
   "metadata": {},
   "outputs": [
    {
     "name": "stdout",
     "output_type": "stream",
     "text": [
      "[1] 1.07864000 0.61094000 0.01284927\n"
     ]
    },
    {
     "data": {
      "text/html": [
       "<ol class=list-inline>\n",
       "\t<li>1.07864</li>\n",
       "\t<li>0.61094</li>\n",
       "\t<li>0.0128492672302521</li>\n",
       "</ol>\n"
      ],
      "text/latex": [
       "\\begin{enumerate*}\n",
       "\\item 1.07864\n",
       "\\item 0.61094\n",
       "\\item 0.0128492672302521\n",
       "\\end{enumerate*}\n"
      ],
      "text/markdown": [
       "1. 1.07864\n",
       "2. 0.61094\n",
       "3. 0.0128492672302521\n",
       "\n",
       "\n"
      ],
      "text/plain": [
       "[1] 1.07864000 0.61094000 0.01284927"
      ]
     },
     "metadata": {},
     "output_type": "display_data"
    }
   ],
   "source": [
    "print(answer)\n",
    "answer"
   ]
  }
 ],
 "metadata": {
  "kernelspec": {
   "display_name": "R 3.4",
   "language": "R",
   "name": "ir34"
  },
  "language_info": {
   "codemirror_mode": "r",
   "file_extension": ".r",
   "mimetype": "text/x-r-source",
   "name": "R",
   "pygments_lexer": "r",
   "version": "3.4.4"
  }
 },
 "nbformat": 4,
 "nbformat_minor": 2
}
