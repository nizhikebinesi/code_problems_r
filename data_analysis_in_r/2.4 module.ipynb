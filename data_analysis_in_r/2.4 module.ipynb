{
 "cells": [
  {
   "cell_type": "markdown",
   "metadata": {},
   "source": [
    "## 2.4\n",
    "### Task 2"
   ]
  },
  {
   "cell_type": "code",
   "execution_count": 3,
   "metadata": {},
   "outputs": [
    {
     "data": {
      "text/html": [
       "1"
      ],
      "text/latex": [
       "1"
      ],
      "text/markdown": [
       "1"
      ],
      "text/plain": [
       "[1] 1"
      ]
     },
     "metadata": {},
     "output_type": "display_data"
    }
   ],
   "source": [
    "sum(is.na(c(NA, 1, 2)))"
   ]
  },
  {
   "cell_type": "code",
   "execution_count": 7,
   "metadata": {},
   "outputs": [],
   "source": [
    "NA.counter <- function(x){\n",
    "    sum(is.na(x))\n",
    "}"
   ]
  },
  {
   "cell_type": "code",
   "execution_count": 8,
   "metadata": {},
   "outputs": [
    {
     "data": {
      "text/html": [
       "4"
      ],
      "text/latex": [
       "4"
      ],
      "text/markdown": [
       "4"
      ],
      "text/plain": [
       "[1] 4"
      ]
     },
     "metadata": {},
     "output_type": "display_data"
    }
   ],
   "source": [
    "NA.counter(c(NA, NA, 12, 32, 4, NA, 2, NA))"
   ]
  },
  {
   "cell_type": "markdown",
   "metadata": {},
   "source": [
    "### Task 3"
   ]
  },
  {
   "cell_type": "code",
   "execution_count": 10,
   "metadata": {},
   "outputs": [],
   "source": [
    "example = c(1, 2, -1, NA)"
   ]
  },
  {
   "cell_type": "code",
   "execution_count": 15,
   "metadata": {},
   "outputs": [
    {
     "data": {
      "text/html": [
       "<ol class=list-inline>\n",
       "\t<li>1</li>\n",
       "\t<li>2</li>\n",
       "\t<li>-1</li>\n",
       "</ol>\n"
      ],
      "text/latex": [
       "\\begin{enumerate*}\n",
       "\\item 1\n",
       "\\item 2\n",
       "\\item -1\n",
       "\\end{enumerate*}\n"
      ],
      "text/markdown": [
       "1. 1\n",
       "2. 2\n",
       "3. -1\n",
       "\n",
       "\n"
      ],
      "text/plain": [
       "[1]  1  2 -1"
      ]
     },
     "metadata": {},
     "output_type": "display_data"
    }
   ],
   "source": [
    "example[!is.na(example)]"
   ]
  },
  {
   "cell_type": "code",
   "execution_count": 23,
   "metadata": {},
   "outputs": [],
   "source": [
    "filtered.sum <- function(x){\n",
    "    filt <- x[!is.na(x)]\n",
    "    filt <- filt[filt > 0]\n",
    "    sum(filt)\n",
    "}\n",
    "\n",
    "filtered.sum1 <- function(x){\n",
    "    return (sum(x[x > 0], na.rm = T))\n",
    "}"
   ]
  },
  {
   "cell_type": "code",
   "execution_count": 26,
   "metadata": {},
   "outputs": [
    {
     "name": "stdout",
     "output_type": "stream",
     "text": [
      "[1] 3\n",
      "[1] 3\n"
     ]
    }
   ],
   "source": [
    "print(filtered.sum(example))\n",
    "print(filtered.sum1(example))"
   ]
  },
  {
   "cell_type": "markdown",
   "metadata": {},
   "source": [
    "### Task 4"
   ]
  },
  {
   "cell_type": "code",
   "execution_count": 29,
   "metadata": {},
   "outputs": [],
   "source": [
    "?IQR"
   ]
  },
  {
   "cell_type": "code",
   "execution_count": 30,
   "metadata": {},
   "outputs": [],
   "source": [
    "?quantile"
   ]
  },
  {
   "cell_type": "code",
   "execution_count": 31,
   "metadata": {},
   "outputs": [],
   "source": [
    "x <- c(2.633213, 2.654674, 2.746650, 2.657763, 2.525229, 2.549804, 2.537088, 1.974909, 1.838017, 1.791683, 1.782088, \n",
    "     1.664908, 1.689402, 1.688826, 1.661763, 1.734322, 1.744875, 1.710471, 1.735690, 1.800677, 1.607354, 1.896810, \n",
    "     2.294757)"
   ]
  },
  {
   "cell_type": "code",
   "execution_count": 32,
   "metadata": {},
   "outputs": [
    {
     "data": {
      "text/html": [
       "<ol class=list-inline>\n",
       "\t<li>2.633213</li>\n",
       "\t<li>2.654674</li>\n",
       "\t<li>2.74665</li>\n",
       "\t<li>2.657763</li>\n",
       "\t<li>2.525229</li>\n",
       "\t<li>2.549804</li>\n",
       "\t<li>2.537088</li>\n",
       "\t<li>1.974909</li>\n",
       "\t<li>1.838017</li>\n",
       "\t<li>1.791683</li>\n",
       "\t<li>1.782088</li>\n",
       "\t<li>1.664908</li>\n",
       "\t<li>1.689402</li>\n",
       "\t<li>1.688826</li>\n",
       "\t<li>1.661763</li>\n",
       "\t<li>1.734322</li>\n",
       "\t<li>1.744875</li>\n",
       "\t<li>1.710471</li>\n",
       "\t<li>1.73569</li>\n",
       "\t<li>1.800677</li>\n",
       "\t<li>1.607354</li>\n",
       "\t<li>1.89681</li>\n",
       "\t<li>2.294757</li>\n",
       "</ol>\n"
      ],
      "text/latex": [
       "\\begin{enumerate*}\n",
       "\\item 2.633213\n",
       "\\item 2.654674\n",
       "\\item 2.74665\n",
       "\\item 2.657763\n",
       "\\item 2.525229\n",
       "\\item 2.549804\n",
       "\\item 2.537088\n",
       "\\item 1.974909\n",
       "\\item 1.838017\n",
       "\\item 1.791683\n",
       "\\item 1.782088\n",
       "\\item 1.664908\n",
       "\\item 1.689402\n",
       "\\item 1.688826\n",
       "\\item 1.661763\n",
       "\\item 1.734322\n",
       "\\item 1.744875\n",
       "\\item 1.710471\n",
       "\\item 1.73569\n",
       "\\item 1.800677\n",
       "\\item 1.607354\n",
       "\\item 1.89681\n",
       "\\item 2.294757\n",
       "\\end{enumerate*}\n"
      ],
      "text/markdown": [
       "1. 2.633213\n",
       "2. 2.654674\n",
       "3. 2.74665\n",
       "4. 2.657763\n",
       "5. 2.525229\n",
       "6. 2.549804\n",
       "7. 2.537088\n",
       "8. 1.974909\n",
       "9. 1.838017\n",
       "10. 1.791683\n",
       "11. 1.782088\n",
       "12. 1.664908\n",
       "13. 1.689402\n",
       "14. 1.688826\n",
       "15. 1.661763\n",
       "16. 1.734322\n",
       "17. 1.744875\n",
       "18. 1.710471\n",
       "19. 1.73569\n",
       "20. 1.800677\n",
       "21. 1.607354\n",
       "22. 1.89681\n",
       "23. 2.294757\n",
       "\n",
       "\n"
      ],
      "text/plain": [
       " [1] 2.633213 2.654674 2.746650 2.657763 2.525229 2.549804 2.537088 1.974909\n",
       " [9] 1.838017 1.791683 1.782088 1.664908 1.689402 1.688826 1.661763 1.734322\n",
       "[17] 1.744875 1.710471 1.735690 1.800677 1.607354 1.896810 2.294757"
      ]
     },
     "metadata": {},
     "output_type": "display_data"
    }
   ],
   "source": [
    "x"
   ]
  },
  {
   "cell_type": "code",
   "execution_count": 38,
   "metadata": {},
   "outputs": [
    {
     "name": "stdout",
     "output_type": "stream",
     "text": [
      "[1] 0.808762\n",
      "     25%      75% \n",
      "1.722396 2.531159 \n"
     ]
    }
   ],
   "source": [
    "print(IQR(x))\n",
    "print(quantile(x, probs = c(0.25, 0.75)))"
   ]
  },
  {
   "cell_type": "code",
   "execution_count": 40,
   "metadata": {},
   "outputs": [],
   "source": [
    "iqr <- IQR(x)\n",
    "q <- quantile(x, probs = c(0.25, 0.75))"
   ]
  },
  {
   "cell_type": "code",
   "execution_count": 49,
   "metadata": {},
   "outputs": [
    {
     "name": "stdout",
     "output_type": "stream",
     "text": [
      "[1] 1.722396\n",
      "[1] 2.531159\n"
     ]
    }
   ],
   "source": [
    "a25 <- as.numeric(q['25%'])\n",
    "a75 <- as.numeric(q['75%'])\n",
    "print(a25)\n",
    "print(a75)"
   ]
  },
  {
   "cell_type": "code",
   "execution_count": 50,
   "metadata": {},
   "outputs": [
    {
     "data": {
      "text/html": [
       "<ol class=list-inline>\n",
       "\t<li>2.633213</li>\n",
       "\t<li>2.654674</li>\n",
       "\t<li>2.74665</li>\n",
       "\t<li>2.657763</li>\n",
       "\t<li>2.525229</li>\n",
       "\t<li>2.549804</li>\n",
       "\t<li>2.537088</li>\n",
       "\t<li>1.974909</li>\n",
       "\t<li>1.838017</li>\n",
       "\t<li>1.791683</li>\n",
       "\t<li>1.782088</li>\n",
       "\t<li>1.664908</li>\n",
       "\t<li>1.689402</li>\n",
       "\t<li>1.688826</li>\n",
       "\t<li>1.661763</li>\n",
       "\t<li>1.734322</li>\n",
       "\t<li>1.744875</li>\n",
       "\t<li>1.710471</li>\n",
       "\t<li>1.73569</li>\n",
       "\t<li>1.800677</li>\n",
       "\t<li>1.607354</li>\n",
       "\t<li>1.89681</li>\n",
       "\t<li>2.294757</li>\n",
       "</ol>\n"
      ],
      "text/latex": [
       "\\begin{enumerate*}\n",
       "\\item 2.633213\n",
       "\\item 2.654674\n",
       "\\item 2.74665\n",
       "\\item 2.657763\n",
       "\\item 2.525229\n",
       "\\item 2.549804\n",
       "\\item 2.537088\n",
       "\\item 1.974909\n",
       "\\item 1.838017\n",
       "\\item 1.791683\n",
       "\\item 1.782088\n",
       "\\item 1.664908\n",
       "\\item 1.689402\n",
       "\\item 1.688826\n",
       "\\item 1.661763\n",
       "\\item 1.734322\n",
       "\\item 1.744875\n",
       "\\item 1.710471\n",
       "\\item 1.73569\n",
       "\\item 1.800677\n",
       "\\item 1.607354\n",
       "\\item 1.89681\n",
       "\\item 2.294757\n",
       "\\end{enumerate*}\n"
      ],
      "text/markdown": [
       "1. 2.633213\n",
       "2. 2.654674\n",
       "3. 2.74665\n",
       "4. 2.657763\n",
       "5. 2.525229\n",
       "6. 2.549804\n",
       "7. 2.537088\n",
       "8. 1.974909\n",
       "9. 1.838017\n",
       "10. 1.791683\n",
       "11. 1.782088\n",
       "12. 1.664908\n",
       "13. 1.689402\n",
       "14. 1.688826\n",
       "15. 1.661763\n",
       "16. 1.734322\n",
       "17. 1.744875\n",
       "18. 1.710471\n",
       "19. 1.73569\n",
       "20. 1.800677\n",
       "21. 1.607354\n",
       "22. 1.89681\n",
       "23. 2.294757\n",
       "\n",
       "\n"
      ],
      "text/plain": [
       " [1] 2.633213 2.654674 2.746650 2.657763 2.525229 2.549804 2.537088 1.974909\n",
       " [9] 1.838017 1.791683 1.782088 1.664908 1.689402 1.688826 1.661763 1.734322\n",
       "[17] 1.744875 1.710471 1.735690 1.800677 1.607354 1.896810 2.294757"
      ]
     },
     "metadata": {},
     "output_type": "display_data"
    }
   ],
   "source": [
    "x[x <= 1.5 * iqr + a75 & x >= a25 - 1.5 * iqr]"
   ]
  },
  {
   "cell_type": "code",
   "execution_count": 51,
   "metadata": {},
   "outputs": [],
   "source": [
    "outliers.rm <- function(x){\n",
    "    iqr <- IQR(x)\n",
    "    q <- quantile(x, probs = c(0.25, 0.75))\n",
    "    a25 <- as.numeric(q['25%'])\n",
    "    a75 <- as.numeric(q['75%'])\n",
    "    x[x <= 1.5 * iqr + a75 & x >= a25 - 1.5 * iqr]\n",
    "}"
   ]
  },
  {
   "cell_type": "code",
   "execution_count": 52,
   "metadata": {},
   "outputs": [
    {
     "data": {
      "text/html": [
       "<ol class=list-inline>\n",
       "\t<li>2.633213</li>\n",
       "\t<li>2.654674</li>\n",
       "\t<li>2.74665</li>\n",
       "\t<li>2.657763</li>\n",
       "\t<li>2.525229</li>\n",
       "\t<li>2.549804</li>\n",
       "\t<li>2.537088</li>\n",
       "\t<li>1.974909</li>\n",
       "\t<li>1.838017</li>\n",
       "\t<li>1.791683</li>\n",
       "\t<li>1.782088</li>\n",
       "\t<li>1.664908</li>\n",
       "\t<li>1.689402</li>\n",
       "\t<li>1.688826</li>\n",
       "\t<li>1.661763</li>\n",
       "\t<li>1.734322</li>\n",
       "\t<li>1.744875</li>\n",
       "\t<li>1.710471</li>\n",
       "\t<li>1.73569</li>\n",
       "\t<li>1.800677</li>\n",
       "\t<li>1.607354</li>\n",
       "\t<li>1.89681</li>\n",
       "\t<li>2.294757</li>\n",
       "</ol>\n"
      ],
      "text/latex": [
       "\\begin{enumerate*}\n",
       "\\item 2.633213\n",
       "\\item 2.654674\n",
       "\\item 2.74665\n",
       "\\item 2.657763\n",
       "\\item 2.525229\n",
       "\\item 2.549804\n",
       "\\item 2.537088\n",
       "\\item 1.974909\n",
       "\\item 1.838017\n",
       "\\item 1.791683\n",
       "\\item 1.782088\n",
       "\\item 1.664908\n",
       "\\item 1.689402\n",
       "\\item 1.688826\n",
       "\\item 1.661763\n",
       "\\item 1.734322\n",
       "\\item 1.744875\n",
       "\\item 1.710471\n",
       "\\item 1.73569\n",
       "\\item 1.800677\n",
       "\\item 1.607354\n",
       "\\item 1.89681\n",
       "\\item 2.294757\n",
       "\\end{enumerate*}\n"
      ],
      "text/markdown": [
       "1. 2.633213\n",
       "2. 2.654674\n",
       "3. 2.74665\n",
       "4. 2.657763\n",
       "5. 2.525229\n",
       "6. 2.549804\n",
       "7. 2.537088\n",
       "8. 1.974909\n",
       "9. 1.838017\n",
       "10. 1.791683\n",
       "11. 1.782088\n",
       "12. 1.664908\n",
       "13. 1.689402\n",
       "14. 1.688826\n",
       "15. 1.661763\n",
       "16. 1.734322\n",
       "17. 1.744875\n",
       "18. 1.710471\n",
       "19. 1.73569\n",
       "20. 1.800677\n",
       "21. 1.607354\n",
       "22. 1.89681\n",
       "23. 2.294757\n",
       "\n",
       "\n"
      ],
      "text/plain": [
       " [1] 2.633213 2.654674 2.746650 2.657763 2.525229 2.549804 2.537088 1.974909\n",
       " [9] 1.838017 1.791683 1.782088 1.664908 1.689402 1.688826 1.661763 1.734322\n",
       "[17] 1.744875 1.710471 1.735690 1.800677 1.607354 1.896810 2.294757"
      ]
     },
     "metadata": {},
     "output_type": "display_data"
    }
   ],
   "source": [
    "outliers.rm(x)"
   ]
  }
 ],
 "metadata": {
  "kernelspec": {
   "display_name": "R 3.4",
   "language": "R",
   "name": "ir34"
  },
  "language_info": {
   "codemirror_mode": "r",
   "file_extension": ".r",
   "mimetype": "text/x-r-source",
   "name": "R",
   "pygments_lexer": "r",
   "version": "3.4.4"
  }
 },
 "nbformat": 4,
 "nbformat_minor": 2
}
