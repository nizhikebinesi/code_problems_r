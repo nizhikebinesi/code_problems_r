{
 "cells": [
  {
   "cell_type": "markdown",
   "metadata": {},
   "source": [
    "## 2.1\n",
    "### task 4"
   ]
  },
  {
   "cell_type": "code",
   "execution_count": 1,
   "metadata": {},
   "outputs": [],
   "source": [
    "#install.packages(\"ggplot2\")\n",
    "library(ggplot2)"
   ]
  },
  {
   "cell_type": "code",
   "execution_count": 2,
   "metadata": {},
   "outputs": [
    {
     "data": {
      "text/html": [
       "<ol class=list-inline>\n",
       "\t<li>53940</li>\n",
       "\t<li>10</li>\n",
       "</ol>\n"
      ],
      "text/latex": [
       "\\begin{enumerate*}\n",
       "\\item 53940\n",
       "\\item 10\n",
       "\\end{enumerate*}\n"
      ],
      "text/markdown": [
       "1. 53940\n",
       "2. 10\n",
       "\n",
       "\n"
      ],
      "text/plain": [
       "[1] 53940    10"
      ]
     },
     "metadata": {},
     "output_type": "display_data"
    }
   ],
   "source": [
    "dim(diamonds)"
   ]
  },
  {
   "cell_type": "code",
   "execution_count": 3,
   "metadata": {},
   "outputs": [
    {
     "data": {
      "text/html": [
       "<ol class=list-inline>\n",
       "\t<li>'tbl_df'</li>\n",
       "\t<li>'tbl'</li>\n",
       "\t<li>'data.frame'</li>\n",
       "</ol>\n"
      ],
      "text/latex": [
       "\\begin{enumerate*}\n",
       "\\item 'tbl\\_df'\n",
       "\\item 'tbl'\n",
       "\\item 'data.frame'\n",
       "\\end{enumerate*}\n"
      ],
      "text/markdown": [
       "1. 'tbl_df'\n",
       "2. 'tbl'\n",
       "3. 'data.frame'\n",
       "\n",
       "\n"
      ],
      "text/plain": [
       "[1] \"tbl_df\"     \"tbl\"        \"data.frame\""
      ]
     },
     "metadata": {},
     "output_type": "display_data"
    }
   ],
   "source": [
    "class(diamonds)"
   ]
  },
  {
   "cell_type": "code",
   "execution_count": 4,
   "metadata": {},
   "outputs": [
    {
     "data": {
      "text/html": [
       "<table>\n",
       "<thead><tr><th scope=col>carat</th><th scope=col>cut</th><th scope=col>color</th><th scope=col>clarity</th><th scope=col>depth</th><th scope=col>table</th><th scope=col>price</th><th scope=col>x</th><th scope=col>y</th><th scope=col>z</th></tr></thead>\n",
       "<tbody>\n",
       "\t<tr><td>0.23   </td><td>Ideal  </td><td>E      </td><td>SI2    </td><td>61.5   </td><td>55     </td><td>326    </td><td>3.95   </td><td>3.98   </td><td>2.43   </td></tr>\n",
       "\t<tr><td>0.21   </td><td>Premium</td><td>E      </td><td>SI1    </td><td>59.8   </td><td>61     </td><td>326    </td><td>3.89   </td><td>3.84   </td><td>2.31   </td></tr>\n",
       "\t<tr><td>0.23   </td><td>Good   </td><td>E      </td><td>VS1    </td><td>56.9   </td><td>65     </td><td>327    </td><td>4.05   </td><td>4.07   </td><td>2.31   </td></tr>\n",
       "</tbody>\n",
       "</table>\n"
      ],
      "text/latex": [
       "\\begin{tabular}{r|llllllllll}\n",
       " carat & cut & color & clarity & depth & table & price & x & y & z\\\\\n",
       "\\hline\n",
       "\t 0.23    & Ideal   & E       & SI2     & 61.5    & 55      & 326     & 3.95    & 3.98    & 2.43   \\\\\n",
       "\t 0.21    & Premium & E       & SI1     & 59.8    & 61      & 326     & 3.89    & 3.84    & 2.31   \\\\\n",
       "\t 0.23    & Good    & E       & VS1     & 56.9    & 65      & 327     & 4.05    & 4.07    & 2.31   \\\\\n",
       "\\end{tabular}\n"
      ],
      "text/markdown": [
       "\n",
       "carat | cut | color | clarity | depth | table | price | x | y | z | \n",
       "|---|---|---|\n",
       "| 0.23    | Ideal   | E       | SI2     | 61.5    | 55      | 326     | 3.95    | 3.98    | 2.43    | \n",
       "| 0.21    | Premium | E       | SI1     | 59.8    | 61      | 326     | 3.89    | 3.84    | 2.31    | \n",
       "| 0.23    | Good    | E       | VS1     | 56.9    | 65      | 327     | 4.05    | 4.07    | 2.31    | \n",
       "\n",
       "\n"
      ],
      "text/plain": [
       "  carat cut     color clarity depth table price x    y    z   \n",
       "1 0.23  Ideal   E     SI2     61.5  55    326   3.95 3.98 2.43\n",
       "2 0.21  Premium E     SI1     59.8  61    326   3.89 3.84 2.31\n",
       "3 0.23  Good    E     VS1     56.9  65    327   4.05 4.07 2.31"
      ]
     },
     "metadata": {},
     "output_type": "display_data"
    }
   ],
   "source": [
    "head(diamonds, 3)"
   ]
  },
  {
   "cell_type": "code",
   "execution_count": 5,
   "metadata": {},
   "outputs": [],
   "source": [
    "mean1 <- mean(diamonds$price)\n",
    "mean2 <- mean(diamonds$carat)\n",
    "diamonds['factor_price'] <- as.integer(diamonds['price'] >= mean1)\n",
    "diamonds['factor_carat'] <- as.integer(diamonds['carat'] >= mean2)"
   ]
  },
  {
   "cell_type": "code",
   "execution_count": 6,
   "metadata": {},
   "outputs": [
    {
     "data": {
      "text/html": [
       "<table>\n",
       "<thead><tr><th scope=col>carat</th><th scope=col>cut</th><th scope=col>color</th><th scope=col>clarity</th><th scope=col>depth</th><th scope=col>table</th><th scope=col>price</th><th scope=col>x</th><th scope=col>y</th><th scope=col>z</th><th scope=col>factor_price</th><th scope=col>factor_carat</th></tr></thead>\n",
       "<tbody>\n",
       "\t<tr><td>0.72     </td><td>Premium  </td><td>D        </td><td>SI1      </td><td>62.7     </td><td>59       </td><td>2757     </td><td>5.69     </td><td>5.73     </td><td>3.58     </td><td>0        </td><td>0        </td></tr>\n",
       "\t<tr><td>0.72     </td><td>Ideal    </td><td>D        </td><td>SI1      </td><td>60.8     </td><td>57       </td><td>2757     </td><td>5.75     </td><td>5.76     </td><td>3.50     </td><td>0        </td><td>0        </td></tr>\n",
       "\t<tr><td>0.72     </td><td>Good     </td><td>D        </td><td>SI1      </td><td>63.1     </td><td>55       </td><td>2757     </td><td>5.69     </td><td>5.75     </td><td>3.61     </td><td>0        </td><td>0        </td></tr>\n",
       "\t<tr><td>0.70     </td><td>Very Good</td><td>D        </td><td>SI1      </td><td>62.8     </td><td>60       </td><td>2757     </td><td>5.66     </td><td>5.68     </td><td>3.56     </td><td>0        </td><td>0        </td></tr>\n",
       "\t<tr><td>0.86     </td><td>Premium  </td><td>H        </td><td>SI2      </td><td>61.0     </td><td>58       </td><td>2757     </td><td>6.15     </td><td>6.12     </td><td>3.74     </td><td>0        </td><td>1        </td></tr>\n",
       "\t<tr><td>0.75     </td><td>Ideal    </td><td>D        </td><td>SI2      </td><td>62.2     </td><td>55       </td><td>2757     </td><td>5.83     </td><td>5.87     </td><td>3.64     </td><td>0        </td><td>0        </td></tr>\n",
       "</tbody>\n",
       "</table>\n"
      ],
      "text/latex": [
       "\\begin{tabular}{r|llllllllllll}\n",
       " carat & cut & color & clarity & depth & table & price & x & y & z & factor\\_price & factor\\_carat\\\\\n",
       "\\hline\n",
       "\t 0.72      & Premium   & D         & SI1       & 62.7      & 59        & 2757      & 5.69      & 5.73      & 3.58      & 0         & 0        \\\\\n",
       "\t 0.72      & Ideal     & D         & SI1       & 60.8      & 57        & 2757      & 5.75      & 5.76      & 3.50      & 0         & 0        \\\\\n",
       "\t 0.72      & Good      & D         & SI1       & 63.1      & 55        & 2757      & 5.69      & 5.75      & 3.61      & 0         & 0        \\\\\n",
       "\t 0.70      & Very Good & D         & SI1       & 62.8      & 60        & 2757      & 5.66      & 5.68      & 3.56      & 0         & 0        \\\\\n",
       "\t 0.86      & Premium   & H         & SI2       & 61.0      & 58        & 2757      & 6.15      & 6.12      & 3.74      & 0         & 1        \\\\\n",
       "\t 0.75      & Ideal     & D         & SI2       & 62.2      & 55        & 2757      & 5.83      & 5.87      & 3.64      & 0         & 0        \\\\\n",
       "\\end{tabular}\n"
      ],
      "text/markdown": [
       "\n",
       "carat | cut | color | clarity | depth | table | price | x | y | z | factor_price | factor_carat | \n",
       "|---|---|---|---|---|---|\n",
       "| 0.72      | Premium   | D         | SI1       | 62.7      | 59        | 2757      | 5.69      | 5.73      | 3.58      | 0         | 0         | \n",
       "| 0.72      | Ideal     | D         | SI1       | 60.8      | 57        | 2757      | 5.75      | 5.76      | 3.50      | 0         | 0         | \n",
       "| 0.72      | Good      | D         | SI1       | 63.1      | 55        | 2757      | 5.69      | 5.75      | 3.61      | 0         | 0         | \n",
       "| 0.70      | Very Good | D         | SI1       | 62.8      | 60        | 2757      | 5.66      | 5.68      | 3.56      | 0         | 0         | \n",
       "| 0.86      | Premium   | H         | SI2       | 61.0      | 58        | 2757      | 6.15      | 6.12      | 3.74      | 0         | 1         | \n",
       "| 0.75      | Ideal     | D         | SI2       | 62.2      | 55        | 2757      | 5.83      | 5.87      | 3.64      | 0         | 0         | \n",
       "\n",
       "\n"
      ],
      "text/plain": [
       "  carat cut       color clarity depth table price x    y    z    factor_price\n",
       "1 0.72  Premium   D     SI1     62.7  59    2757  5.69 5.73 3.58 0           \n",
       "2 0.72  Ideal     D     SI1     60.8  57    2757  5.75 5.76 3.50 0           \n",
       "3 0.72  Good      D     SI1     63.1  55    2757  5.69 5.75 3.61 0           \n",
       "4 0.70  Very Good D     SI1     62.8  60    2757  5.66 5.68 3.56 0           \n",
       "5 0.86  Premium   H     SI2     61.0  58    2757  6.15 6.12 3.74 0           \n",
       "6 0.75  Ideal     D     SI2     62.2  55    2757  5.83 5.87 3.64 0           \n",
       "  factor_carat\n",
       "1 0           \n",
       "2 0           \n",
       "3 0           \n",
       "4 0           \n",
       "5 1           \n",
       "6 0           "
      ]
     },
     "metadata": {},
     "output_type": "display_data"
    }
   ],
   "source": [
    "tail(diamonds)"
   ]
  },
  {
   "cell_type": "code",
   "execution_count": 7,
   "metadata": {},
   "outputs": [],
   "source": [
    "main_stat <- chisq.test(\n",
    "    table(\n",
    "        diamonds$factor_price,\n",
    "        diamonds$factor_carat\n",
    "    )\n",
    ")$statistic"
   ]
  },
  {
   "cell_type": "code",
   "execution_count": 8,
   "metadata": {},
   "outputs": [
    {
     "data": {
      "text/html": [
       "<strong>X-squared:</strong> 40735.2227968624"
      ],
      "text/latex": [
       "\\textbf{X-squared:} 40735.2227968624"
      ],
      "text/markdown": [
       "**X-squared:** 40735.2227968624"
      ],
      "text/plain": [
       "X-squared \n",
       " 40735.22 "
      ]
     },
     "metadata": {},
     "output_type": "display_data"
    }
   ],
   "source": [
    "main_stat"
   ]
  },
  {
   "cell_type": "markdown",
   "metadata": {},
   "source": [
    "### task 5"
   ]
  },
  {
   "cell_type": "code",
   "execution_count": 9,
   "metadata": {},
   "outputs": [
    {
     "data": {
      "text/html": [
       "<table>\n",
       "<thead><tr><th></th><th scope=col>mpg</th><th scope=col>cyl</th><th scope=col>disp</th><th scope=col>hp</th><th scope=col>drat</th><th scope=col>wt</th><th scope=col>qsec</th><th scope=col>vs</th><th scope=col>am</th><th scope=col>gear</th><th scope=col>carb</th></tr></thead>\n",
       "<tbody>\n",
       "\t<tr><th scope=row>Mazda RX4</th><td>21.0 </td><td>6    </td><td>160  </td><td>110  </td><td>3.90 </td><td>2.620</td><td>16.46</td><td>0    </td><td>1    </td><td>4    </td><td>4    </td></tr>\n",
       "\t<tr><th scope=row>Mazda RX4 Wag</th><td>21.0 </td><td>6    </td><td>160  </td><td>110  </td><td>3.90 </td><td>2.875</td><td>17.02</td><td>0    </td><td>1    </td><td>4    </td><td>4    </td></tr>\n",
       "\t<tr><th scope=row>Datsun 710</th><td>22.8 </td><td>4    </td><td>108  </td><td> 93  </td><td>3.85 </td><td>2.320</td><td>18.61</td><td>1    </td><td>1    </td><td>4    </td><td>1    </td></tr>\n",
       "</tbody>\n",
       "</table>\n"
      ],
      "text/latex": [
       "\\begin{tabular}{r|lllllllllll}\n",
       "  & mpg & cyl & disp & hp & drat & wt & qsec & vs & am & gear & carb\\\\\n",
       "\\hline\n",
       "\tMazda RX4 & 21.0  & 6     & 160   & 110   & 3.90  & 2.620 & 16.46 & 0     & 1     & 4     & 4    \\\\\n",
       "\tMazda RX4 Wag & 21.0  & 6     & 160   & 110   & 3.90  & 2.875 & 17.02 & 0     & 1     & 4     & 4    \\\\\n",
       "\tDatsun 710 & 22.8  & 4     & 108   &  93   & 3.85  & 2.320 & 18.61 & 1     & 1     & 4     & 1    \\\\\n",
       "\\end{tabular}\n"
      ],
      "text/markdown": [
       "\n",
       "| <!--/--> | mpg | cyl | disp | hp | drat | wt | qsec | vs | am | gear | carb | \n",
       "|---|---|---|\n",
       "| Mazda RX4 | 21.0  | 6     | 160   | 110   | 3.90  | 2.620 | 16.46 | 0     | 1     | 4     | 4     | \n",
       "| Mazda RX4 Wag | 21.0  | 6     | 160   | 110   | 3.90  | 2.875 | 17.02 | 0     | 1     | 4     | 4     | \n",
       "| Datsun 710 | 22.8  | 4     | 108   |  93   | 3.85  | 2.320 | 18.61 | 1     | 1     | 4     | 1     | \n",
       "\n",
       "\n"
      ],
      "text/plain": [
       "              mpg  cyl disp hp  drat wt    qsec  vs am gear carb\n",
       "Mazda RX4     21.0 6   160  110 3.90 2.620 16.46 0  1  4    4   \n",
       "Mazda RX4 Wag 21.0 6   160  110 3.90 2.875 17.02 0  1  4    4   \n",
       "Datsun 710    22.8 4   108   93 3.85 2.320 18.61 1  1  4    1   "
      ]
     },
     "metadata": {},
     "output_type": "display_data"
    }
   ],
   "source": [
    "head(mtcars, 3)"
   ]
  },
  {
   "cell_type": "code",
   "execution_count": 10,
   "metadata": {},
   "outputs": [],
   "source": [
    "fisher_test <- fisher.test(table(mtcars$am, mtcars$vs))$p.value"
   ]
  },
  {
   "cell_type": "code",
   "execution_count": 11,
   "metadata": {},
   "outputs": [
    {
     "data": {
      "text/html": [
       "0.47269744160178"
      ],
      "text/latex": [
       "0.47269744160178"
      ],
      "text/markdown": [
       "0.47269744160178"
      ],
      "text/plain": [
       "[1] 0.4726974"
      ]
     },
     "metadata": {},
     "output_type": "display_data"
    }
   ],
   "source": [
    "fisher_test"
   ]
  }
 ],
 "metadata": {
  "kernelspec": {
   "display_name": "R 3.4",
   "language": "R",
   "name": "ir34"
  },
  "language_info": {
   "codemirror_mode": "r",
   "file_extension": ".r",
   "mimetype": "text/x-r-source",
   "name": "R",
   "pygments_lexer": "r",
   "version": "3.4.4"
  }
 },
 "nbformat": 4,
 "nbformat_minor": 2
}
