{
 "cells": [
  {
   "cell_type": "markdown",
   "metadata": {},
   "source": [
    "## 2.3\n",
    "### Question 2"
   ]
  },
  {
   "cell_type": "code",
   "execution_count": 1,
   "metadata": {},
   "outputs": [
    {
     "data": {
      "text/html": [
       "<table>\n",
       "<thead><tr><th scope=col>block</th><th scope=col>N</th><th scope=col>P</th><th scope=col>K</th><th scope=col>yield</th></tr></thead>\n",
       "<tbody>\n",
       "\t<tr><td>1   </td><td>0   </td><td>1   </td><td>1   </td><td>49.5</td></tr>\n",
       "\t<tr><td>1   </td><td>1   </td><td>1   </td><td>0   </td><td>62.8</td></tr>\n",
       "\t<tr><td>1   </td><td>0   </td><td>0   </td><td>0   </td><td>46.8</td></tr>\n",
       "</tbody>\n",
       "</table>\n"
      ],
      "text/latex": [
       "\\begin{tabular}{r|lllll}\n",
       " block & N & P & K & yield\\\\\n",
       "\\hline\n",
       "\t 1    & 0    & 1    & 1    & 49.5\\\\\n",
       "\t 1    & 1    & 1    & 0    & 62.8\\\\\n",
       "\t 1    & 0    & 0    & 0    & 46.8\\\\\n",
       "\\end{tabular}\n"
      ],
      "text/markdown": [
       "\n",
       "block | N | P | K | yield | \n",
       "|---|---|---|\n",
       "| 1    | 0    | 1    | 1    | 49.5 | \n",
       "| 1    | 1    | 1    | 0    | 62.8 | \n",
       "| 1    | 0    | 0    | 0    | 46.8 | \n",
       "\n",
       "\n"
      ],
      "text/plain": [
       "  block N P K yield\n",
       "1 1     0 1 1 49.5 \n",
       "2 1     1 1 0 62.8 \n",
       "3 1     0 0 0 46.8 "
      ]
     },
     "metadata": {},
     "output_type": "display_data"
    }
   ],
   "source": [
    "head(npk, 3)"
   ]
  },
  {
   "cell_type": "code",
   "execution_count": 2,
   "metadata": {},
   "outputs": [
    {
     "data": {
      "text/plain": [
       "            Df Sum Sq Mean Sq F value Pr(>F)  \n",
       "N            1  189.3  189.28   5.758 0.0263 *\n",
       "P            1    8.4    8.40   0.256 0.6187  \n",
       "N:P          1   21.3   21.28   0.647 0.4305  \n",
       "Residuals   20  657.4   32.87                 \n",
       "---\n",
       "Signif. codes:  0 ‘***’ 0.001 ‘**’ 0.01 ‘*’ 0.05 ‘.’ 0.1 ‘ ’ 1"
      ]
     },
     "metadata": {},
     "output_type": "display_data"
    }
   ],
   "source": [
    "fit <- aov(yield ~ N * P, data=npk)\n",
    "summary(fit)"
   ]
  },
  {
   "cell_type": "markdown",
   "metadata": {},
   "source": [
    "### Question 4"
   ]
  },
  {
   "cell_type": "code",
   "execution_count": 3,
   "metadata": {},
   "outputs": [
    {
     "data": {
      "text/html": [
       "<table>\n",
       "<thead><tr><th scope=col>Sepal.Length</th><th scope=col>Sepal.Width</th><th scope=col>Petal.Length</th><th scope=col>Petal.Width</th><th scope=col>Species</th></tr></thead>\n",
       "<tbody>\n",
       "\t<tr><td>5.1   </td><td>3.5   </td><td>1.4   </td><td>0.2   </td><td>setosa</td></tr>\n",
       "\t<tr><td>4.9   </td><td>3.0   </td><td>1.4   </td><td>0.2   </td><td>setosa</td></tr>\n",
       "\t<tr><td>4.7   </td><td>3.2   </td><td>1.3   </td><td>0.2   </td><td>setosa</td></tr>\n",
       "\t<tr><td>4.6   </td><td>3.1   </td><td>1.5   </td><td>0.2   </td><td>setosa</td></tr>\n",
       "\t<tr><td>5.0   </td><td>3.6   </td><td>1.4   </td><td>0.2   </td><td>setosa</td></tr>\n",
       "</tbody>\n",
       "</table>\n"
      ],
      "text/latex": [
       "\\begin{tabular}{r|lllll}\n",
       " Sepal.Length & Sepal.Width & Petal.Length & Petal.Width & Species\\\\\n",
       "\\hline\n",
       "\t 5.1    & 3.5    & 1.4    & 0.2    & setosa\\\\\n",
       "\t 4.9    & 3.0    & 1.4    & 0.2    & setosa\\\\\n",
       "\t 4.7    & 3.2    & 1.3    & 0.2    & setosa\\\\\n",
       "\t 4.6    & 3.1    & 1.5    & 0.2    & setosa\\\\\n",
       "\t 5.0    & 3.6    & 1.4    & 0.2    & setosa\\\\\n",
       "\\end{tabular}\n"
      ],
      "text/markdown": [
       "\n",
       "Sepal.Length | Sepal.Width | Petal.Length | Petal.Width | Species | \n",
       "|---|---|---|---|---|\n",
       "| 5.1    | 3.5    | 1.4    | 0.2    | setosa | \n",
       "| 4.9    | 3.0    | 1.4    | 0.2    | setosa | \n",
       "| 4.7    | 3.2    | 1.3    | 0.2    | setosa | \n",
       "| 4.6    | 3.1    | 1.5    | 0.2    | setosa | \n",
       "| 5.0    | 3.6    | 1.4    | 0.2    | setosa | \n",
       "\n",
       "\n"
      ],
      "text/plain": [
       "  Sepal.Length Sepal.Width Petal.Length Petal.Width Species\n",
       "1 5.1          3.5         1.4          0.2         setosa \n",
       "2 4.9          3.0         1.4          0.2         setosa \n",
       "3 4.7          3.2         1.3          0.2         setosa \n",
       "4 4.6          3.1         1.5          0.2         setosa \n",
       "5 5.0          3.6         1.4          0.2         setosa "
      ]
     },
     "metadata": {},
     "output_type": "display_data"
    }
   ],
   "source": [
    "head(iris, 5)"
   ]
  },
  {
   "cell_type": "code",
   "execution_count": 4,
   "metadata": {},
   "outputs": [
    {
     "data": {
      "text/plain": [
       "             Df Sum Sq Mean Sq F value Pr(>F)    \n",
       "Species       2  11.35   5.672   49.16 <2e-16 ***\n",
       "Residuals   147  16.96   0.115                   \n",
       "---\n",
       "Signif. codes:  0 ‘***’ 0.001 ‘**’ 0.01 ‘*’ 0.05 ‘.’ 0.1 ‘ ’ 1"
      ]
     },
     "metadata": {},
     "output_type": "display_data"
    }
   ],
   "source": [
    "fit <- aov(Sepal.Width ~ Species, data=iris)\n",
    "summary(fit)"
   ]
  },
  {
   "cell_type": "code",
   "execution_count": 5,
   "metadata": {},
   "outputs": [
    {
     "data": {},
     "metadata": {},
     "output_type": "display_data"
    },
    {
     "data": {
      "image/png": "[encoded data removed]",
      "text/plain": [
       "plot without title"
      ]
     },
     "metadata": {},
     "output_type": "display_data"
    }
   ],
   "source": [
    "library(ggplot2)\n",
    "\n",
    "ggplot(iris, aes(x = Species, y = Sepal.Width)) + \n",
    "    geom_boxplot()"
   ]
  },
  {
   "cell_type": "markdown",
   "metadata": {},
   "source": [
    "Проведем множественные сравнения с <a href=\"https://r-analytics.blogspot.com/2013/10/blog-post_19.html#.W5uBcN0zY5k\">поправкой Тьюки</a>."
   ]
  },
  {
   "cell_type": "code",
   "execution_count": 6,
   "metadata": {},
   "outputs": [
    {
     "data": {
      "text/plain": [
       "  Tukey multiple comparisons of means\n",
       "    95% family-wise confidence level\n",
       "\n",
       "Fit: aov(formula = Sepal.Width ~ Species, data = iris)\n",
       "\n",
       "$Species\n",
       "                       diff         lwr        upr     p adj\n",
       "versicolor-setosa    -0.658 -0.81885528 -0.4971447 0.0000000\n",
       "virginica-setosa     -0.454 -0.61485528 -0.2931447 0.0000000\n",
       "virginica-versicolor  0.204  0.04314472  0.3648553 0.0087802\n"
      ]
     },
     "metadata": {},
     "output_type": "display_data"
    }
   ],
   "source": [
    "TukeyHSD(fit)"
   ]
  },
  {
   "cell_type": "markdown",
   "metadata": {},
   "source": [
    "### Question 5"
   ]
  },
  {
   "cell_type": "code",
   "execution_count": 7,
   "metadata": {},
   "outputs": [],
   "source": [
    "url <- \"https://stepic.org/media/attachments/lesson/11505/Pillulkin.csv\"\n",
    "dest <- 'some1.csv'"
   ]
  },
  {
   "cell_type": "code",
   "execution_count": 8,
   "metadata": {},
   "outputs": [],
   "source": [
    "download.file(url = url, destfile = dest)"
   ]
  },
  {
   "cell_type": "code",
   "execution_count": 9,
   "metadata": {},
   "outputs": [
    {
     "data": {
      "text/html": [
       "<table>\n",
       "<thead><tr><th scope=col>temperature</th><th scope=col>pill</th><th scope=col>doctor</th><th scope=col>patient</th></tr></thead>\n",
       "<tbody>\n",
       "\t<tr><td>39.33055</td><td>A       </td><td>Aibolit </td><td>1       </td></tr>\n",
       "\t<tr><td>40.74877</td><td>B       </td><td>Aibolit </td><td>1       </td></tr>\n",
       "\t<tr><td>39.33913</td><td>A       </td><td>Aibolit </td><td>2       </td></tr>\n",
       "\t<tr><td>38.20438</td><td>B       </td><td>Aibolit </td><td>2       </td></tr>\n",
       "\t<tr><td>36.99757</td><td>A       </td><td>Aibolit </td><td>3       </td></tr>\n",
       "</tbody>\n",
       "</table>\n"
      ],
      "text/latex": [
       "\\begin{tabular}{r|llll}\n",
       " temperature & pill & doctor & patient\\\\\n",
       "\\hline\n",
       "\t 39.33055 & A        & Aibolit  & 1       \\\\\n",
       "\t 40.74877 & B        & Aibolit  & 1       \\\\\n",
       "\t 39.33913 & A        & Aibolit  & 2       \\\\\n",
       "\t 38.20438 & B        & Aibolit  & 2       \\\\\n",
       "\t 36.99757 & A        & Aibolit  & 3       \\\\\n",
       "\\end{tabular}\n"
      ],
      "text/markdown": [
       "\n",
       "temperature | pill | doctor | patient | \n",
       "|---|---|---|---|---|\n",
       "| 39.33055 | A        | Aibolit  | 1        | \n",
       "| 40.74877 | B        | Aibolit  | 1        | \n",
       "| 39.33913 | A        | Aibolit  | 2        | \n",
       "| 38.20438 | B        | Aibolit  | 2        | \n",
       "| 36.99757 | A        | Aibolit  | 3        | \n",
       "\n",
       "\n"
      ],
      "text/plain": [
       "  temperature pill doctor  patient\n",
       "1 39.33055    A    Aibolit 1      \n",
       "2 40.74877    B    Aibolit 1      \n",
       "3 39.33913    A    Aibolit 2      \n",
       "4 38.20438    B    Aibolit 2      \n",
       "5 36.99757    A    Aibolit 3      "
      ]
     },
     "metadata": {},
     "output_type": "display_data"
    }
   ],
   "source": [
    "df <- read.csv('some1.csv')\n",
    "df$patient <- as.factor(df$patient)\n",
    "head(df, 5)"
   ]
  },
  {
   "cell_type": "code",
   "execution_count": 10,
   "metadata": {},
   "outputs": [
    {
     "data": {
      "text/plain": [
       "\n",
       "Error: patient\n",
       "          Df Sum Sq Mean Sq F value Pr(>F)\n",
       "Residuals  9  42.82   4.758               \n",
       "\n",
       "Error: patient:pill\n",
       "          Df Sum Sq Mean Sq F value Pr(>F)\n",
       "pill       1  0.133   0.133   0.051  0.826\n",
       "Residuals  9 23.479   2.609               \n",
       "\n",
       "Error: Within\n",
       "          Df Sum Sq Mean Sq F value Pr(>F)\n",
       "Residuals 20  87.51   4.375               "
      ]
     },
     "metadata": {},
     "output_type": "display_data"
    }
   ],
   "source": [
    "fit <- aov(temperature ~ pill + Error(patient/pill), data=df)\n",
    "summary(fit)"
   ]
  },
  {
   "cell_type": "markdown",
   "metadata": {},
   "source": [
    "### Question 6"
   ]
  },
  {
   "cell_type": "code",
   "execution_count": 11,
   "metadata": {},
   "outputs": [
    {
     "data": {
      "text/plain": [
       "\n",
       "Error: patient\n",
       "          Df Sum Sq Mean Sq F value Pr(>F)\n",
       "Residuals  9  42.82   4.758               \n",
       "\n",
       "Error: patient:pill\n",
       "          Df Sum Sq Mean Sq F value Pr(>F)\n",
       "pill       1  0.133   0.133   0.051  0.826\n",
       "Residuals  9 23.479   2.609               \n",
       "\n",
       "Error: patient:doctor\n",
       "          Df Sum Sq Mean Sq F value Pr(>F)\n",
       "doctor     1  15.70  15.696   3.113  0.111\n",
       "Residuals  9  45.37   5.042               \n",
       "\n",
       "Error: patient:pill:doctor\n",
       "            Df Sum Sq Mean Sq F value Pr(>F)\n",
       "pill:doctor  1  0.422  0.4215   0.146  0.711\n",
       "Residuals    9 26.014  2.8905               "
      ]
     },
     "metadata": {},
     "output_type": "display_data"
    }
   ],
   "source": [
    "fit <- aov(temperature ~ pill * doctor + Error(patient/(pill * doctor)), data=df)\n",
    "summary(fit)"
   ]
  },
  {
   "cell_type": "markdown",
   "metadata": {},
   "source": [
    "### Task 1"
   ]
  },
  {
   "cell_type": "code",
   "execution_count": 36,
   "metadata": {},
   "outputs": [
    {
     "name": "stderr",
     "output_type": "stream",
     "text": [
      "Installing package into ‘/home/nizhikebinesi/R/x86_64-pc-linux-gnu-library/3.4’\n",
      "(as ‘lib’ is unspecified)\n"
     ]
    }
   ],
   "source": [
    "install.packages('Hmisc')"
   ]
  },
  {
   "cell_type": "code",
   "execution_count": 37,
   "metadata": {},
   "outputs": [],
   "source": [
    "library(ggplot2)\n",
    "library(Hmisc)\n",
    "obj <- ggplot(ToothGrowth, aes(x = as.factor(dose), y = len, col = supp, group = supp)) +\n",
    "    stat_summary(fun.data = mean_cl_boot, geom = 'errorbar', width = 0.1, position = position_dodge(0.2)) +\n",
    "    stat_summary(fun.data = mean_cl_boot, geom = 'point', size = 3, position = position_dodge(0.2)) +\n",
    "    stat_summary(fun.data = mean_cl_boot, geom = 'line', position = position_dodge(0.2)) +\n",
    "    theme_bw()"
   ]
  },
  {
   "cell_type": "code",
   "execution_count": 39,
   "metadata": {},
   "outputs": [
    {
     "data": {},
     "metadata": {},
     "output_type": "display_data"
    },
    {
     "data": {
      "image/png": "[encoded data removed]",
      "text/plain": [
       "plot without title"
      ]
     },
     "metadata": {},
     "output_type": "display_data"
    }
   ],
   "source": [
    "obj"
   ]
  }
 ],
 "metadata": {
  "kernelspec": {
   "display_name": "R 3.4",
   "language": "R",
   "name": "ir34"
  },
  "language_info": {
   "codemirror_mode": "r",
   "file_extension": ".r",
   "mimetype": "text/x-r-source",
   "name": "R",
   "pygments_lexer": "r",
   "version": "3.4.4"
  }
 },
 "nbformat": 4,
 "nbformat_minor": 2
}
