{
 "cells": [
  {
   "cell_type": "markdown",
   "metadata": {},
   "source": [
    "## 3.1\n",
    "### Task 1"
   ]
  },
  {
   "cell_type": "code",
   "execution_count": 2,
   "metadata": {},
   "outputs": [
    {
     "data": {
      "text/html": [
       "<table>\n",
       "<thead><tr><th></th><th scope=col>mpg</th><th scope=col>cyl</th><th scope=col>disp</th><th scope=col>hp</th><th scope=col>drat</th><th scope=col>wt</th><th scope=col>qsec</th><th scope=col>vs</th><th scope=col>am</th><th scope=col>gear</th><th scope=col>carb</th></tr></thead>\n",
       "<tbody>\n",
       "\t<tr><th scope=row>Mazda RX4</th><td>21.0 </td><td>6    </td><td>160  </td><td>110  </td><td>3.90 </td><td>2.620</td><td>16.46</td><td>0    </td><td>1    </td><td>4    </td><td>4    </td></tr>\n",
       "\t<tr><th scope=row>Mazda RX4 Wag</th><td>21.0 </td><td>6    </td><td>160  </td><td>110  </td><td>3.90 </td><td>2.875</td><td>17.02</td><td>0    </td><td>1    </td><td>4    </td><td>4    </td></tr>\n",
       "\t<tr><th scope=row>Datsun 710</th><td>22.8 </td><td>4    </td><td>108  </td><td> 93  </td><td>3.85 </td><td>2.320</td><td>18.61</td><td>1    </td><td>1    </td><td>4    </td><td>1    </td></tr>\n",
       "</tbody>\n",
       "</table>\n"
      ],
      "text/latex": [
       "\\begin{tabular}{r|lllllllllll}\n",
       "  & mpg & cyl & disp & hp & drat & wt & qsec & vs & am & gear & carb\\\\\n",
       "\\hline\n",
       "\tMazda RX4 & 21.0  & 6     & 160   & 110   & 3.90  & 2.620 & 16.46 & 0     & 1     & 4     & 4    \\\\\n",
       "\tMazda RX4 Wag & 21.0  & 6     & 160   & 110   & 3.90  & 2.875 & 17.02 & 0     & 1     & 4     & 4    \\\\\n",
       "\tDatsun 710 & 22.8  & 4     & 108   &  93   & 3.85  & 2.320 & 18.61 & 1     & 1     & 4     & 1    \\\\\n",
       "\\end{tabular}\n"
      ],
      "text/markdown": [
       "\n",
       "| <!--/--> | mpg | cyl | disp | hp | drat | wt | qsec | vs | am | gear | carb | \n",
       "|---|---|---|\n",
       "| Mazda RX4 | 21.0  | 6     | 160   | 110   | 3.90  | 2.620 | 16.46 | 0     | 1     | 4     | 4     | \n",
       "| Mazda RX4 Wag | 21.0  | 6     | 160   | 110   | 3.90  | 2.875 | 17.02 | 0     | 1     | 4     | 4     | \n",
       "| Datsun 710 | 22.8  | 4     | 108   |  93   | 3.85  | 2.320 | 18.61 | 1     | 1     | 4     | 1     | \n",
       "\n",
       "\n"
      ],
      "text/plain": [
       "              mpg  cyl disp hp  drat wt    qsec  vs am gear carb\n",
       "Mazda RX4     21.0 6   160  110 3.90 2.620 16.46 0  1  4    4   \n",
       "Mazda RX4 Wag 21.0 6   160  110 3.90 2.875 17.02 0  1  4    4   \n",
       "Datsun 710    22.8 4   108   93 3.85 2.320 18.61 1  1  4    1   "
      ]
     },
     "metadata": {},
     "output_type": "display_data"
    }
   ],
   "source": [
    "head(mtcars, 3)"
   ]
  },
  {
   "cell_type": "code",
   "execution_count": 3,
   "metadata": {},
   "outputs": [
    {
     "data": {
      "text/plain": [
       "\n",
       "\tPearson's product-moment correlation\n",
       "\n",
       "data:  mtcars$mpg and mtcars$hp\n",
       "t = -6.7424, df = 30, p-value = 1.788e-07\n",
       "alternative hypothesis: true correlation is not equal to 0\n",
       "95 percent confidence interval:\n",
       " -0.8852686 -0.5860994\n",
       "sample estimates:\n",
       "       cor \n",
       "-0.7761684 \n"
      ]
     },
     "metadata": {},
     "output_type": "display_data"
    }
   ],
   "source": [
    "cor.test(x = mtcars$mpg, y = mtcars$hp)"
   ]
  },
  {
   "cell_type": "code",
   "execution_count": 13,
   "metadata": {},
   "outputs": [
    {
     "name": "stderr",
     "output_type": "stream",
     "text": [
      "Installing package into ‘/home/nizhikebinesi/R/x86_64-pc-linux-gnu-library/3.4’\n",
      "(as ‘lib’ is unspecified)\n"
     ]
    }
   ],
   "source": [
    "install.packages('psych')\n",
    "library('psych')\n",
    "\n",
    "cr <- corr.test(mtcars[, c(1,5)])"
   ]
  },
  {
   "cell_type": "code",
   "execution_count": 23,
   "metadata": {},
   "outputs": [
    {
     "data": {
      "text/html": [
       "0.681171907806749"
      ],
      "text/latex": [
       "0.681171907806749"
      ],
      "text/markdown": [
       "0.681171907806749"
      ],
      "text/plain": [
       "[1] 0.6811719"
      ]
     },
     "metadata": {},
     "output_type": "display_data"
    }
   ],
   "source": [
    "# коэффициент корреляции\n",
    "array(cr$r)[2]"
   ]
  },
  {
   "cell_type": "code",
   "execution_count": 24,
   "metadata": {},
   "outputs": [
    {
     "data": {
      "text/html": [
       "1.77623992875241e-05"
      ],
      "text/latex": [
       "1.77623992875241e-05"
      ],
      "text/markdown": [
       "1.77623992875241e-05"
      ],
      "text/plain": [
       "[1] 1.77624e-05"
      ]
     },
     "metadata": {},
     "output_type": "display_data"
    }
   ],
   "source": [
    "# p-value\n",
    "array(cr$p)[2]"
   ]
  },
  {
   "cell_type": "code",
   "execution_count": 25,
   "metadata": {},
   "outputs": [],
   "source": [
    "corr.calc <- function(x){\n",
    "    library('psych')\n",
    "    cr <- corr.test(x)\n",
    "    return ( c(array(cr$r)[2], array(cr$p)[2]) )\n",
    "}"
   ]
  },
  {
   "cell_type": "code",
   "execution_count": 26,
   "metadata": {},
   "outputs": [
    {
     "data": {
      "text/html": [
       "<ol class=list-inline>\n",
       "\t<li>0.681171907806749</li>\n",
       "\t<li>1.77623992875241e-05</li>\n",
       "</ol>\n"
      ],
      "text/latex": [
       "\\begin{enumerate*}\n",
       "\\item 0.681171907806749\n",
       "\\item 1.77623992875241e-05\n",
       "\\end{enumerate*}\n"
      ],
      "text/markdown": [
       "1. 0.681171907806749\n",
       "2. 1.77623992875241e-05\n",
       "\n",
       "\n"
      ],
      "text/plain": [
       "[1] 0.6811719078 0.0000177624"
      ]
     },
     "metadata": {},
     "output_type": "display_data"
    }
   ],
   "source": [
    "corr.calc(mtcars[, c(1,5)])"
   ]
  },
  {
   "cell_type": "markdown",
   "metadata": {},
   "source": [
    "### Task 2"
   ]
  },
  {
   "cell_type": "code",
   "execution_count": 4,
   "metadata": {},
   "outputs": [],
   "source": [
    "url <- \"https://stepic.org/media/attachments/lesson/11504/step6.csv\"\n",
    "dest <- 'step6.csv'"
   ]
  },
  {
   "cell_type": "code",
   "execution_count": 5,
   "metadata": {},
   "outputs": [],
   "source": [
    "download.file(url = url, destfile = dest)"
   ]
  },
  {
   "cell_type": "code",
   "execution_count": 6,
   "metadata": {},
   "outputs": [],
   "source": [
    "step6 <- read.table(\"step6.csv\",  header=TRUE, sep=',')"
   ]
  },
  {
   "cell_type": "code",
   "execution_count": 7,
   "metadata": {},
   "outputs": [],
   "source": [
    "library('psych')"
   ]
  },
  {
   "cell_type": "code",
   "execution_count": 9,
   "metadata": {},
   "outputs": [
    {
     "data": {
      "text/html": [
       "<table>\n",
       "<thead><tr><th scope=col>V0</th><th scope=col>V1</th><th scope=col>V2</th><th scope=col>V3</th><th scope=col>V4</th><th scope=col>V5</th><th scope=col>V6</th><th scope=col>V7</th><th scope=col>V8</th><th scope=col>V9</th><th scope=col>V10</th><th scope=col>V11</th><th scope=col>V12</th><th scope=col>V13</th></tr></thead>\n",
       "<tbody>\n",
       "\t<tr><td>TY2PWH  </td><td>-16.633 </td><td>-11.830 </td><td>9FL3MI  </td><td> 14.197 </td><td>-116.628</td><td>38RT18  </td><td> -4.531 </td><td>-14.234 </td><td> 21.701 </td><td>12.736  </td><td>JG0IUG  </td><td> 48.110 </td><td>  38.352</td></tr>\n",
       "\t<tr><td>Y3D6ZU  </td><td>  8.646 </td><td>  3.066 </td><td>B5BPAL  </td><td>-31.837 </td><td>  -3.290</td><td>N9GKKB  </td><td>-22.311 </td><td>107.117 </td><td> 26.253 </td><td> 3.109  </td><td>DAJ7P0  </td><td>  0.942 </td><td>  75.388</td></tr>\n",
       "\t<tr><td>CRW2OZ  </td><td> 17.355 </td><td>-13.517 </td><td>L6QJXI  </td><td> 56.945 </td><td> -51.174</td><td>WCAYX5  </td><td>-17.371 </td><td>-26.932 </td><td> 52.735 </td><td>-8.870  </td><td>Z87TIP  </td><td>  3.419 </td><td> 149.406</td></tr>\n",
       "\t<tr><td>26DOSM  </td><td>-24.280 </td><td> 39.919 </td><td>8360S6  </td><td> 11.424 </td><td> -16.051</td><td>CRKYZB  </td><td> 47.055 </td><td> 15.509 </td><td>-96.000 </td><td>23.039  </td><td>VX0ZZC  </td><td> 43.498 </td><td>  95.207</td></tr>\n",
       "\t<tr><td>BYEWCV  </td><td> 31.736 </td><td> 24.103 </td><td>NVYKT3  </td><td>  7.096 </td><td> -38.985</td><td>ZMQOD7  </td><td> -0.576 </td><td>-80.631 </td><td>142.549 </td><td> 6.685  </td><td>GOIUSH  </td><td>-39.280 </td><td>-108.598</td></tr>\n",
       "</tbody>\n",
       "</table>\n"
      ],
      "text/latex": [
       "\\begin{tabular}{r|llllllllllllll}\n",
       " V0 & V1 & V2 & V3 & V4 & V5 & V6 & V7 & V8 & V9 & V10 & V11 & V12 & V13\\\\\n",
       "\\hline\n",
       "\t TY2PWH   & -16.633  & -11.830  & 9FL3MI   &  14.197  & -116.628 & 38RT18   &  -4.531  & -14.234  &  21.701  & 12.736   & JG0IUG   &  48.110  &   38.352\\\\\n",
       "\t Y3D6ZU   &   8.646  &   3.066  & B5BPAL   & -31.837  &   -3.290 & N9GKKB   & -22.311  & 107.117  &  26.253  &  3.109   & DAJ7P0   &   0.942  &   75.388\\\\\n",
       "\t CRW2OZ   &  17.355  & -13.517  & L6QJXI   &  56.945  &  -51.174 & WCAYX5   & -17.371  & -26.932  &  52.735  & -8.870   & Z87TIP   &   3.419  &  149.406\\\\\n",
       "\t 26DOSM   & -24.280  &  39.919  & 8360S6   &  11.424  &  -16.051 & CRKYZB   &  47.055  &  15.509  & -96.000  & 23.039   & VX0ZZC   &  43.498  &   95.207\\\\\n",
       "\t BYEWCV   &  31.736  &  24.103  & NVYKT3   &   7.096  &  -38.985 & ZMQOD7   &  -0.576  & -80.631  & 142.549  &  6.685   & GOIUSH   & -39.280  & -108.598\\\\\n",
       "\\end{tabular}\n"
      ],
      "text/markdown": [
       "\n",
       "V0 | V1 | V2 | V3 | V4 | V5 | V6 | V7 | V8 | V9 | V10 | V11 | V12 | V13 | \n",
       "|---|---|---|---|---|\n",
       "| TY2PWH   | -16.633  | -11.830  | 9FL3MI   |  14.197  | -116.628 | 38RT18   |  -4.531  | -14.234  |  21.701  | 12.736   | JG0IUG   |  48.110  |   38.352 | \n",
       "| Y3D6ZU   |   8.646  |   3.066  | B5BPAL   | -31.837  |   -3.290 | N9GKKB   | -22.311  | 107.117  |  26.253  |  3.109   | DAJ7P0   |   0.942  |   75.388 | \n",
       "| CRW2OZ   |  17.355  | -13.517  | L6QJXI   |  56.945  |  -51.174 | WCAYX5   | -17.371  | -26.932  |  52.735  | -8.870   | Z87TIP   |   3.419  |  149.406 | \n",
       "| 26DOSM   | -24.280  |  39.919  | 8360S6   |  11.424  |  -16.051 | CRKYZB   |  47.055  |  15.509  | -96.000  | 23.039   | VX0ZZC   |  43.498  |   95.207 | \n",
       "| BYEWCV   |  31.736  |  24.103  | NVYKT3   |   7.096  |  -38.985 | ZMQOD7   |  -0.576  | -80.631  | 142.549  |  6.685   | GOIUSH   | -39.280  | -108.598 | \n",
       "\n",
       "\n"
      ],
      "text/plain": [
       "  V0     V1      V2      V3     V4      V5       V6     V7      V8      V9     \n",
       "1 TY2PWH -16.633 -11.830 9FL3MI  14.197 -116.628 38RT18  -4.531 -14.234  21.701\n",
       "2 Y3D6ZU   8.646   3.066 B5BPAL -31.837   -3.290 N9GKKB -22.311 107.117  26.253\n",
       "3 CRW2OZ  17.355 -13.517 L6QJXI  56.945  -51.174 WCAYX5 -17.371 -26.932  52.735\n",
       "4 26DOSM -24.280  39.919 8360S6  11.424  -16.051 CRKYZB  47.055  15.509 -96.000\n",
       "5 BYEWCV  31.736  24.103 NVYKT3   7.096  -38.985 ZMQOD7  -0.576 -80.631 142.549\n",
       "  V10    V11    V12     V13     \n",
       "1 12.736 JG0IUG  48.110   38.352\n",
       "2  3.109 DAJ7P0   0.942   75.388\n",
       "3 -8.870 Z87TIP   3.419  149.406\n",
       "4 23.039 VX0ZZC  43.498   95.207\n",
       "5  6.685 GOIUSH -39.280 -108.598"
      ]
     },
     "metadata": {},
     "output_type": "display_data"
    }
   ],
   "source": [
    "head(step6, 5)"
   ]
  },
  {
   "cell_type": "code",
   "execution_count": 42,
   "metadata": {},
   "outputs": [],
   "source": [
    "filtered.cor <- function(x) {\n",
    "    zero_diag <- function(xx) {\n",
    "        for (i in 1:nrow(xx)) {\n",
    "            xx[i, i] = 0\n",
    "        }\n",
    "        xx\n",
    "    }\n",
    "    \n",
    "    library('psych')\n",
    "    \n",
    "    types <- sapply(x, class)\n",
    "    columns <- which(types == \"numeric\")\n",
    "    df <- x[ , columns]\n",
    "    corrs <- zero_diag(corr.test(df)$r)\n",
    "    \n",
    "    answ1 <- max(corrs)\n",
    "    answ2 <- min(corrs)\n",
    "    \n",
    "    res <- ifelse(abs(answ1) > abs(answ2), answ1, answ2)\n",
    "    \n",
    "    res\n",
    "}"
   ]
  },
  {
   "cell_type": "code",
   "execution_count": 43,
   "metadata": {},
   "outputs": [],
   "source": [
    "xx <- filtered.cor(step6)"
   ]
  },
  {
   "cell_type": "code",
   "execution_count": 44,
   "metadata": {},
   "outputs": [
    {
     "data": {
      "text/html": [
       "0.235997030571772"
      ],
      "text/latex": [
       "0.235997030571772"
      ],
      "text/markdown": [
       "0.235997030571772"
      ],
      "text/plain": [
       "[1] 0.235997"
      ]
     },
     "metadata": {},
     "output_type": "display_data"
    }
   ],
   "source": [
    "xx"
   ]
  },
  {
   "cell_type": "markdown",
   "metadata": {},
   "source": [
    "### Task 3"
   ]
  },
  {
   "cell_type": "code",
   "execution_count": 46,
   "metadata": {},
   "outputs": [],
   "source": [
    "test_data  <- read.csv(\"https://stepik.org/media/attachments/course/129/test_data.csv\")"
   ]
  },
  {
   "cell_type": "code",
   "execution_count": 47,
   "metadata": {},
   "outputs": [
    {
     "data": {
      "text/html": [
       "<table>\n",
       "<thead><tr><th scope=col>col1</th><th scope=col>col2</th></tr></thead>\n",
       "<tbody>\n",
       "\t<tr><td> 0.78</td><td>-0.49</td></tr>\n",
       "\t<tr><td> 0.25</td><td> 1.32</td></tr>\n",
       "\t<tr><td> 0.93</td><td> 0.04</td></tr>\n",
       "\t<tr><td>-1.16</td><td>-0.98</td></tr>\n",
       "\t<tr><td>-1.84</td><td> 1.31</td></tr>\n",
       "\t<tr><td> 1.71</td><td> 0.41</td></tr>\n",
       "</tbody>\n",
       "</table>\n"
      ],
      "text/latex": [
       "\\begin{tabular}{r|ll}\n",
       " col1 & col2\\\\\n",
       "\\hline\n",
       "\t  0.78 & -0.49\\\\\n",
       "\t  0.25 &  1.32\\\\\n",
       "\t  0.93 &  0.04\\\\\n",
       "\t -1.16 & -0.98\\\\\n",
       "\t -1.84 &  1.31\\\\\n",
       "\t  1.71 &  0.41\\\\\n",
       "\\end{tabular}\n"
      ],
      "text/markdown": [
       "\n",
       "col1 | col2 | \n",
       "|---|---|---|---|---|---|\n",
       "|  0.78 | -0.49 | \n",
       "|  0.25 |  1.32 | \n",
       "|  0.93 |  0.04 | \n",
       "| -1.16 | -0.98 | \n",
       "| -1.84 |  1.31 | \n",
       "|  1.71 |  0.41 | \n",
       "\n",
       "\n"
      ],
      "text/plain": [
       "  col1  col2 \n",
       "1  0.78 -0.49\n",
       "2  0.25  1.32\n",
       "3  0.93  0.04\n",
       "4 -1.16 -0.98\n",
       "5 -1.84  1.31\n",
       "6  1.71  0.41"
      ]
     },
     "metadata": {},
     "output_type": "display_data"
    }
   ],
   "source": [
    "head(test_data)"
   ]
  },
  {
   "cell_type": "code",
   "execution_count": 150,
   "metadata": {},
   "outputs": [],
   "source": [
    "smart_cor <- function(x) {\n",
    "    get_cond <- function(x) {\n",
    "        alpha = 0.05\n",
    "        shapiro.test(x[[1]])$p.value < alpha || shapiro.test(x[[2]])$p.value < alpha\n",
    "    }\n",
    "    \n",
    "    s <- ifelse(get_cond(x), 'spearman', 'pearson')\n",
    "    res <- cor.test(x[[1]], x[[2]], method = s)$estimate\n",
    "    \n",
    "    res\n",
    "}"
   ]
  },
  {
   "cell_type": "code",
   "execution_count": 151,
   "metadata": {},
   "outputs": [],
   "source": [
    "y <- smart_cor(test_data)"
   ]
  },
  {
   "cell_type": "code",
   "execution_count": 152,
   "metadata": {},
   "outputs": [
    {
     "data": {
      "text/html": [
       "<strong>cor:</strong> -0.103100334676588"
      ],
      "text/latex": [
       "\\textbf{cor:} -0.103100334676588"
      ],
      "text/markdown": [
       "**cor:** -0.103100334676588"
      ],
      "text/plain": [
       "       cor \n",
       "-0.1031003 "
      ]
     },
     "metadata": {},
     "output_type": "display_data"
    }
   ],
   "source": [
    "y"
   ]
  },
  {
   "cell_type": "markdown",
   "metadata": {},
   "source": [
    "### Task 4"
   ]
  },
  {
   "cell_type": "code",
   "execution_count": 173,
   "metadata": {},
   "outputs": [],
   "source": [
    "name <- 'dataset_11508_12.txt'"
   ]
  },
  {
   "cell_type": "code",
   "execution_count": 174,
   "metadata": {},
   "outputs": [],
   "source": [
    "df <- read.table(name, sep='' )"
   ]
  },
  {
   "cell_type": "code",
   "execution_count": 175,
   "metadata": {},
   "outputs": [
    {
     "data": {
      "text/html": [
       "<table>\n",
       "<thead><tr><th scope=col>V1</th><th scope=col>V2</th></tr></thead>\n",
       "<tbody>\n",
       "\t<tr><td> 0.032</td><td>-0.605</td></tr>\n",
       "\t<tr><td>-1.823</td><td> 3.751</td></tr>\n",
       "</tbody>\n",
       "</table>\n"
      ],
      "text/latex": [
       "\\begin{tabular}{r|ll}\n",
       " V1 & V2\\\\\n",
       "\\hline\n",
       "\t  0.032 & -0.605\\\\\n",
       "\t -1.823 &  3.751\\\\\n",
       "\\end{tabular}\n"
      ],
      "text/markdown": [
       "\n",
       "V1 | V2 | \n",
       "|---|---|\n",
       "|  0.032 | -0.605 | \n",
       "| -1.823 |  3.751 | \n",
       "\n",
       "\n"
      ],
      "text/plain": [
       "  V1     V2    \n",
       "1  0.032 -0.605\n",
       "2 -1.823  3.751"
      ]
     },
     "metadata": {},
     "output_type": "display_data"
    }
   ],
   "source": [
    "head(df, 2)"
   ]
  },
  {
   "cell_type": "code",
   "execution_count": 176,
   "metadata": {},
   "outputs": [],
   "source": [
    "fit <- lm(df[ , 1]~ df[ , 2], df)"
   ]
  },
  {
   "cell_type": "code",
   "execution_count": 177,
   "metadata": {},
   "outputs": [
    {
     "data": {
      "text/html": [
       "<ol class=list-inline>\n",
       "\t<li>-0.225376772912086</li>\n",
       "\t<li>-0.425945286560326</li>\n",
       "</ol>\n"
      ],
      "text/latex": [
       "\\begin{enumerate*}\n",
       "\\item -0.225376772912086\n",
       "\\item -0.425945286560326\n",
       "\\end{enumerate*}\n"
      ],
      "text/markdown": [
       "1. -0.225376772912086\n",
       "2. -0.425945286560326\n",
       "\n",
       "\n"
      ],
      "text/plain": [
       "[1] -0.2253768 -0.4259453"
      ]
     },
     "metadata": {},
     "output_type": "display_data"
    }
   ],
   "source": [
    "as.numeric(fit$coefficients)"
   ]
  },
  {
   "cell_type": "markdown",
   "metadata": {},
   "source": [
    "### Task 5"
   ]
  },
  {
   "cell_type": "code",
   "execution_count": 178,
   "metadata": {},
   "outputs": [
    {
     "name": "stderr",
     "output_type": "stream",
     "text": [
      "\n",
      "Attaching package: ‘ggplot2’\n",
      "\n",
      "The following objects are masked from ‘package:psych’:\n",
      "\n",
      "    %+%, alpha\n",
      "\n"
     ]
    }
   ],
   "source": [
    "library('ggplot2')"
   ]
  },
  {
   "cell_type": "code",
   "execution_count": 179,
   "metadata": {},
   "outputs": [
    {
     "data": {
      "text/html": [
       "<table>\n",
       "<thead><tr><th scope=col>carat</th><th scope=col>cut</th><th scope=col>color</th><th scope=col>clarity</th><th scope=col>depth</th><th scope=col>table</th><th scope=col>price</th><th scope=col>x</th><th scope=col>y</th><th scope=col>z</th></tr></thead>\n",
       "<tbody>\n",
       "\t<tr><td>0.23   </td><td>Ideal  </td><td>E      </td><td>SI2    </td><td>61.5   </td><td>55     </td><td>326    </td><td>3.95   </td><td>3.98   </td><td>2.43   </td></tr>\n",
       "\t<tr><td>0.21   </td><td>Premium</td><td>E      </td><td>SI1    </td><td>59.8   </td><td>61     </td><td>326    </td><td>3.89   </td><td>3.84   </td><td>2.31   </td></tr>\n",
       "\t<tr><td>0.23   </td><td>Good   </td><td>E      </td><td>VS1    </td><td>56.9   </td><td>65     </td><td>327    </td><td>4.05   </td><td>4.07   </td><td>2.31   </td></tr>\n",
       "\t<tr><td>0.29   </td><td>Premium</td><td>I      </td><td>VS2    </td><td>62.4   </td><td>58     </td><td>334    </td><td>4.20   </td><td>4.23   </td><td>2.63   </td></tr>\n",
       "\t<tr><td>0.31   </td><td>Good   </td><td>J      </td><td>SI2    </td><td>63.3   </td><td>58     </td><td>335    </td><td>4.34   </td><td>4.35   </td><td>2.75   </td></tr>\n",
       "</tbody>\n",
       "</table>\n"
      ],
      "text/latex": [
       "\\begin{tabular}{r|llllllllll}\n",
       " carat & cut & color & clarity & depth & table & price & x & y & z\\\\\n",
       "\\hline\n",
       "\t 0.23    & Ideal   & E       & SI2     & 61.5    & 55      & 326     & 3.95    & 3.98    & 2.43   \\\\\n",
       "\t 0.21    & Premium & E       & SI1     & 59.8    & 61      & 326     & 3.89    & 3.84    & 2.31   \\\\\n",
       "\t 0.23    & Good    & E       & VS1     & 56.9    & 65      & 327     & 4.05    & 4.07    & 2.31   \\\\\n",
       "\t 0.29    & Premium & I       & VS2     & 62.4    & 58      & 334     & 4.20    & 4.23    & 2.63   \\\\\n",
       "\t 0.31    & Good    & J       & SI2     & 63.3    & 58      & 335     & 4.34    & 4.35    & 2.75   \\\\\n",
       "\\end{tabular}\n"
      ],
      "text/markdown": [
       "\n",
       "carat | cut | color | clarity | depth | table | price | x | y | z | \n",
       "|---|---|---|---|---|\n",
       "| 0.23    | Ideal   | E       | SI2     | 61.5    | 55      | 326     | 3.95    | 3.98    | 2.43    | \n",
       "| 0.21    | Premium | E       | SI1     | 59.8    | 61      | 326     | 3.89    | 3.84    | 2.31    | \n",
       "| 0.23    | Good    | E       | VS1     | 56.9    | 65      | 327     | 4.05    | 4.07    | 2.31    | \n",
       "| 0.29    | Premium | I       | VS2     | 62.4    | 58      | 334     | 4.20    | 4.23    | 2.63    | \n",
       "| 0.31    | Good    | J       | SI2     | 63.3    | 58      | 335     | 4.34    | 4.35    | 2.75    | \n",
       "\n",
       "\n"
      ],
      "text/plain": [
       "  carat cut     color clarity depth table price x    y    z   \n",
       "1 0.23  Ideal   E     SI2     61.5  55    326   3.95 3.98 2.43\n",
       "2 0.21  Premium E     SI1     59.8  61    326   3.89 3.84 2.31\n",
       "3 0.23  Good    E     VS1     56.9  65    327   4.05 4.07 2.31\n",
       "4 0.29  Premium I     VS2     62.4  58    334   4.20 4.23 2.63\n",
       "5 0.31  Good    J     SI2     63.3  58    335   4.34 4.35 2.75"
      ]
     },
     "metadata": {},
     "output_type": "display_data"
    }
   ],
   "source": [
    "head(diamonds, 5)"
   ]
  },
  {
   "cell_type": "code",
   "execution_count": 180,
   "metadata": {},
   "outputs": [],
   "source": [
    "df <- subset(diamonds, cut == 'Ideal' & carat == 0.46)"
   ]
  },
  {
   "cell_type": "code",
   "execution_count": 181,
   "metadata": {
    "scrolled": false
   },
   "outputs": [
    {
     "data": {
      "text/html": [
       "<table>\n",
       "<thead><tr><th scope=col>carat</th><th scope=col>cut</th><th scope=col>color</th><th scope=col>clarity</th><th scope=col>depth</th><th scope=col>table</th><th scope=col>price</th><th scope=col>x</th><th scope=col>y</th><th scope=col>z</th></tr></thead>\n",
       "<tbody>\n",
       "\t<tr><td>0.46 </td><td>Ideal</td><td>J    </td><td>VS2  </td><td>61.4 </td><td>56   </td><td>746  </td><td>4.96 </td><td>5.00 </td><td>3.06 </td></tr>\n",
       "\t<tr><td>0.46 </td><td>Ideal</td><td>F    </td><td>SI2  </td><td>61.5 </td><td>54   </td><td>758  </td><td>4.98 </td><td>5.01 </td><td>3.07 </td></tr>\n",
       "\t<tr><td>0.46 </td><td>Ideal</td><td>F    </td><td>SI2  </td><td>61.5 </td><td>54   </td><td>758  </td><td>4.98 </td><td>5.01 </td><td>3.07 </td></tr>\n",
       "\t<tr><td>0.46 </td><td>Ideal</td><td>G    </td><td>SI2  </td><td>61.1 </td><td>57   </td><td>807  </td><td>4.97 </td><td>5.01 </td><td>3.05 </td></tr>\n",
       "\t<tr><td>0.46 </td><td>Ideal</td><td>H    </td><td>SI1  </td><td>61.7 </td><td>55   </td><td>807  </td><td>4.99 </td><td>5.02 </td><td>3.09 </td></tr>\n",
       "</tbody>\n",
       "</table>\n"
      ],
      "text/latex": [
       "\\begin{tabular}{r|llllllllll}\n",
       " carat & cut & color & clarity & depth & table & price & x & y & z\\\\\n",
       "\\hline\n",
       "\t 0.46  & Ideal & J     & VS2   & 61.4  & 56    & 746   & 4.96  & 5.00  & 3.06 \\\\\n",
       "\t 0.46  & Ideal & F     & SI2   & 61.5  & 54    & 758   & 4.98  & 5.01  & 3.07 \\\\\n",
       "\t 0.46  & Ideal & F     & SI2   & 61.5  & 54    & 758   & 4.98  & 5.01  & 3.07 \\\\\n",
       "\t 0.46  & Ideal & G     & SI2   & 61.1  & 57    & 807   & 4.97  & 5.01  & 3.05 \\\\\n",
       "\t 0.46  & Ideal & H     & SI1   & 61.7  & 55    & 807   & 4.99  & 5.02  & 3.09 \\\\\n",
       "\\end{tabular}\n"
      ],
      "text/markdown": [
       "\n",
       "carat | cut | color | clarity | depth | table | price | x | y | z | \n",
       "|---|---|---|---|---|\n",
       "| 0.46  | Ideal | J     | VS2   | 61.4  | 56    | 746   | 4.96  | 5.00  | 3.06  | \n",
       "| 0.46  | Ideal | F     | SI2   | 61.5  | 54    | 758   | 4.98  | 5.01  | 3.07  | \n",
       "| 0.46  | Ideal | F     | SI2   | 61.5  | 54    | 758   | 4.98  | 5.01  | 3.07  | \n",
       "| 0.46  | Ideal | G     | SI2   | 61.1  | 57    | 807   | 4.97  | 5.01  | 3.05  | \n",
       "| 0.46  | Ideal | H     | SI1   | 61.7  | 55    | 807   | 4.99  | 5.02  | 3.09  | \n",
       "\n",
       "\n"
      ],
      "text/plain": [
       "  carat cut   color clarity depth table price x    y    z   \n",
       "1 0.46  Ideal J     VS2     61.4  56    746   4.96 5.00 3.06\n",
       "2 0.46  Ideal F     SI2     61.5  54    758   4.98 5.01 3.07\n",
       "3 0.46  Ideal F     SI2     61.5  54    758   4.98 5.01 3.07\n",
       "4 0.46  Ideal G     SI2     61.1  57    807   4.97 5.01 3.05\n",
       "5 0.46  Ideal H     SI1     61.7  55    807   4.99 5.02 3.09"
      ]
     },
     "metadata": {},
     "output_type": "display_data"
    }
   ],
   "source": [
    "head(df, 5)"
   ]
  },
  {
   "cell_type": "code",
   "execution_count": 185,
   "metadata": {},
   "outputs": [],
   "source": [
    "fit <- lm(price ~ depth, df)"
   ]
  },
  {
   "cell_type": "code",
   "execution_count": 186,
   "metadata": {},
   "outputs": [
    {
     "data": {
      "text/html": [
       "<dl class=dl-horizontal>\n",
       "\t<dt>(Intercept)</dt>\n",
       "\t\t<dd>-76.1103017690129</dd>\n",
       "\t<dt>depth</dt>\n",
       "\t\t<dd>21.4342698577874</dd>\n",
       "</dl>\n"
      ],
      "text/latex": [
       "\\begin{description*}\n",
       "\\item[(Intercept)] -76.1103017690129\n",
       "\\item[depth] 21.4342698577874\n",
       "\\end{description*}\n"
      ],
      "text/markdown": [
       "(Intercept)\n",
       ":   -76.1103017690129depth\n",
       ":   21.4342698577874\n",
       "\n"
      ],
      "text/plain": [
       "(Intercept)       depth \n",
       "  -76.11030    21.43427 "
      ]
     },
     "metadata": {},
     "output_type": "display_data"
    }
   ],
   "source": [
    "fit$coefficients"
   ]
  },
  {
   "cell_type": "markdown",
   "metadata": {},
   "source": [
    "### Task 6"
   ]
  },
  {
   "cell_type": "code",
   "execution_count": 187,
   "metadata": {},
   "outputs": [
    {
     "data": {
      "text/html": [
       "<ol class=list-inline>\n",
       "\t<li>5.1</li>\n",
       "\t<li>4.9</li>\n",
       "\t<li>4.7</li>\n",
       "\t<li>4.6</li>\n",
       "\t<li>5</li>\n",
       "\t<li>5.4</li>\n",
       "\t<li>4.6</li>\n",
       "\t<li>5</li>\n",
       "\t<li>4.4</li>\n",
       "\t<li>4.9</li>\n",
       "\t<li>5.4</li>\n",
       "\t<li>4.8</li>\n",
       "\t<li>4.8</li>\n",
       "\t<li>4.3</li>\n",
       "\t<li>5.8</li>\n",
       "\t<li>5.7</li>\n",
       "\t<li>5.4</li>\n",
       "\t<li>5.1</li>\n",
       "\t<li>5.7</li>\n",
       "\t<li>5.1</li>\n",
       "\t<li>5.4</li>\n",
       "\t<li>5.1</li>\n",
       "\t<li>4.6</li>\n",
       "\t<li>5.1</li>\n",
       "\t<li>4.8</li>\n",
       "\t<li>5</li>\n",
       "\t<li>5</li>\n",
       "\t<li>5.2</li>\n",
       "\t<li>5.2</li>\n",
       "\t<li>4.7</li>\n",
       "\t<li>4.8</li>\n",
       "\t<li>5.4</li>\n",
       "\t<li>5.2</li>\n",
       "\t<li>5.5</li>\n",
       "\t<li>4.9</li>\n",
       "\t<li>5</li>\n",
       "\t<li>5.5</li>\n",
       "\t<li>4.9</li>\n",
       "\t<li>4.4</li>\n",
       "\t<li>5.1</li>\n",
       "\t<li>5</li>\n",
       "\t<li>4.5</li>\n",
       "\t<li>4.4</li>\n",
       "\t<li>5</li>\n",
       "\t<li>5.1</li>\n",
       "\t<li>4.8</li>\n",
       "\t<li>5.1</li>\n",
       "\t<li>4.6</li>\n",
       "\t<li>5.3</li>\n",
       "\t<li>5</li>\n",
       "\t<li>7</li>\n",
       "\t<li>6.4</li>\n",
       "\t<li>6.9</li>\n",
       "\t<li>5.5</li>\n",
       "\t<li>6.5</li>\n",
       "\t<li>5.7</li>\n",
       "\t<li>6.3</li>\n",
       "\t<li>4.9</li>\n",
       "\t<li>6.6</li>\n",
       "\t<li>5.2</li>\n",
       "\t<li>5</li>\n",
       "\t<li>5.9</li>\n",
       "\t<li>6</li>\n",
       "\t<li>6.1</li>\n",
       "\t<li>5.6</li>\n",
       "\t<li>6.7</li>\n",
       "\t<li>5.6</li>\n",
       "\t<li>5.8</li>\n",
       "\t<li>6.2</li>\n",
       "\t<li>5.6</li>\n",
       "\t<li>5.9</li>\n",
       "\t<li>6.1</li>\n",
       "\t<li>6.3</li>\n",
       "\t<li>6.1</li>\n",
       "\t<li>6.4</li>\n",
       "\t<li>6.6</li>\n",
       "\t<li>6.8</li>\n",
       "\t<li>6.7</li>\n",
       "\t<li>6</li>\n",
       "\t<li>5.7</li>\n",
       "\t<li>5.5</li>\n",
       "\t<li>5.5</li>\n",
       "\t<li>5.8</li>\n",
       "\t<li>6</li>\n",
       "\t<li>5.4</li>\n",
       "\t<li>6</li>\n",
       "\t<li>6.7</li>\n",
       "\t<li>6.3</li>\n",
       "\t<li>5.6</li>\n",
       "\t<li>5.5</li>\n",
       "\t<li>5.5</li>\n",
       "\t<li>6.1</li>\n",
       "\t<li>5.8</li>\n",
       "\t<li>5</li>\n",
       "\t<li>5.6</li>\n",
       "\t<li>5.7</li>\n",
       "\t<li>5.7</li>\n",
       "\t<li>6.2</li>\n",
       "\t<li>5.1</li>\n",
       "\t<li>5.7</li>\n",
       "\t<li>6.3</li>\n",
       "\t<li>5.8</li>\n",
       "\t<li>7.1</li>\n",
       "\t<li>6.3</li>\n",
       "\t<li>6.5</li>\n",
       "\t<li>7.6</li>\n",
       "\t<li>4.9</li>\n",
       "\t<li>7.3</li>\n",
       "\t<li>6.7</li>\n",
       "\t<li>7.2</li>\n",
       "\t<li>6.5</li>\n",
       "\t<li>6.4</li>\n",
       "\t<li>6.8</li>\n",
       "\t<li>5.7</li>\n",
       "\t<li>5.8</li>\n",
       "\t<li>6.4</li>\n",
       "\t<li>6.5</li>\n",
       "\t<li>7.7</li>\n",
       "\t<li>7.7</li>\n",
       "\t<li>6</li>\n",
       "\t<li>6.9</li>\n",
       "\t<li>5.6</li>\n",
       "\t<li>7.7</li>\n",
       "\t<li>6.3</li>\n",
       "\t<li>6.7</li>\n",
       "\t<li>7.2</li>\n",
       "\t<li>6.2</li>\n",
       "\t<li>6.1</li>\n",
       "\t<li>6.4</li>\n",
       "\t<li>7.2</li>\n",
       "\t<li>7.4</li>\n",
       "\t<li>7.9</li>\n",
       "\t<li>6.4</li>\n",
       "\t<li>6.3</li>\n",
       "\t<li>6.1</li>\n",
       "\t<li>7.7</li>\n",
       "\t<li>6.3</li>\n",
       "\t<li>6.4</li>\n",
       "\t<li>6</li>\n",
       "\t<li>6.9</li>\n",
       "\t<li>6.7</li>\n",
       "\t<li>6.9</li>\n",
       "\t<li>5.8</li>\n",
       "\t<li>6.8</li>\n",
       "\t<li>6.7</li>\n",
       "\t<li>6.7</li>\n",
       "\t<li>6.3</li>\n",
       "\t<li>6.5</li>\n",
       "\t<li>6.2</li>\n",
       "\t<li>5.9</li>\n",
       "</ol>\n"
      ],
      "text/latex": [
       "\\begin{enumerate*}\n",
       "\\item 5.1\n",
       "\\item 4.9\n",
       "\\item 4.7\n",
       "\\item 4.6\n",
       "\\item 5\n",
       "\\item 5.4\n",
       "\\item 4.6\n",
       "\\item 5\n",
       "\\item 4.4\n",
       "\\item 4.9\n",
       "\\item 5.4\n",
       "\\item 4.8\n",
       "\\item 4.8\n",
       "\\item 4.3\n",
       "\\item 5.8\n",
       "\\item 5.7\n",
       "\\item 5.4\n",
       "\\item 5.1\n",
       "\\item 5.7\n",
       "\\item 5.1\n",
       "\\item 5.4\n",
       "\\item 5.1\n",
       "\\item 4.6\n",
       "\\item 5.1\n",
       "\\item 4.8\n",
       "\\item 5\n",
       "\\item 5\n",
       "\\item 5.2\n",
       "\\item 5.2\n",
       "\\item 4.7\n",
       "\\item 4.8\n",
       "\\item 5.4\n",
       "\\item 5.2\n",
       "\\item 5.5\n",
       "\\item 4.9\n",
       "\\item 5\n",
       "\\item 5.5\n",
       "\\item 4.9\n",
       "\\item 4.4\n",
       "\\item 5.1\n",
       "\\item 5\n",
       "\\item 4.5\n",
       "\\item 4.4\n",
       "\\item 5\n",
       "\\item 5.1\n",
       "\\item 4.8\n",
       "\\item 5.1\n",
       "\\item 4.6\n",
       "\\item 5.3\n",
       "\\item 5\n",
       "\\item 7\n",
       "\\item 6.4\n",
       "\\item 6.9\n",
       "\\item 5.5\n",
       "\\item 6.5\n",
       "\\item 5.7\n",
       "\\item 6.3\n",
       "\\item 4.9\n",
       "\\item 6.6\n",
       "\\item 5.2\n",
       "\\item 5\n",
       "\\item 5.9\n",
       "\\item 6\n",
       "\\item 6.1\n",
       "\\item 5.6\n",
       "\\item 6.7\n",
       "\\item 5.6\n",
       "\\item 5.8\n",
       "\\item 6.2\n",
       "\\item 5.6\n",
       "\\item 5.9\n",
       "\\item 6.1\n",
       "\\item 6.3\n",
       "\\item 6.1\n",
       "\\item 6.4\n",
       "\\item 6.6\n",
       "\\item 6.8\n",
       "\\item 6.7\n",
       "\\item 6\n",
       "\\item 5.7\n",
       "\\item 5.5\n",
       "\\item 5.5\n",
       "\\item 5.8\n",
       "\\item 6\n",
       "\\item 5.4\n",
       "\\item 6\n",
       "\\item 6.7\n",
       "\\item 6.3\n",
       "\\item 5.6\n",
       "\\item 5.5\n",
       "\\item 5.5\n",
       "\\item 6.1\n",
       "\\item 5.8\n",
       "\\item 5\n",
       "\\item 5.6\n",
       "\\item 5.7\n",
       "\\item 5.7\n",
       "\\item 6.2\n",
       "\\item 5.1\n",
       "\\item 5.7\n",
       "\\item 6.3\n",
       "\\item 5.8\n",
       "\\item 7.1\n",
       "\\item 6.3\n",
       "\\item 6.5\n",
       "\\item 7.6\n",
       "\\item 4.9\n",
       "\\item 7.3\n",
       "\\item 6.7\n",
       "\\item 7.2\n",
       "\\item 6.5\n",
       "\\item 6.4\n",
       "\\item 6.8\n",
       "\\item 5.7\n",
       "\\item 5.8\n",
       "\\item 6.4\n",
       "\\item 6.5\n",
       "\\item 7.7\n",
       "\\item 7.7\n",
       "\\item 6\n",
       "\\item 6.9\n",
       "\\item 5.6\n",
       "\\item 7.7\n",
       "\\item 6.3\n",
       "\\item 6.7\n",
       "\\item 7.2\n",
       "\\item 6.2\n",
       "\\item 6.1\n",
       "\\item 6.4\n",
       "\\item 7.2\n",
       "\\item 7.4\n",
       "\\item 7.9\n",
       "\\item 6.4\n",
       "\\item 6.3\n",
       "\\item 6.1\n",
       "\\item 7.7\n",
       "\\item 6.3\n",
       "\\item 6.4\n",
       "\\item 6\n",
       "\\item 6.9\n",
       "\\item 6.7\n",
       "\\item 6.9\n",
       "\\item 5.8\n",
       "\\item 6.8\n",
       "\\item 6.7\n",
       "\\item 6.7\n",
       "\\item 6.3\n",
       "\\item 6.5\n",
       "\\item 6.2\n",
       "\\item 5.9\n",
       "\\end{enumerate*}\n"
      ],
      "text/markdown": [
       "1. 5.1\n",
       "2. 4.9\n",
       "3. 4.7\n",
       "4. 4.6\n",
       "5. 5\n",
       "6. 5.4\n",
       "7. 4.6\n",
       "8. 5\n",
       "9. 4.4\n",
       "10. 4.9\n",
       "11. 5.4\n",
       "12. 4.8\n",
       "13. 4.8\n",
       "14. 4.3\n",
       "15. 5.8\n",
       "16. 5.7\n",
       "17. 5.4\n",
       "18. 5.1\n",
       "19. 5.7\n",
       "20. 5.1\n",
       "21. 5.4\n",
       "22. 5.1\n",
       "23. 4.6\n",
       "24. 5.1\n",
       "25. 4.8\n",
       "26. 5\n",
       "27. 5\n",
       "28. 5.2\n",
       "29. 5.2\n",
       "30. 4.7\n",
       "31. 4.8\n",
       "32. 5.4\n",
       "33. 5.2\n",
       "34. 5.5\n",
       "35. 4.9\n",
       "36. 5\n",
       "37. 5.5\n",
       "38. 4.9\n",
       "39. 4.4\n",
       "40. 5.1\n",
       "41. 5\n",
       "42. 4.5\n",
       "43. 4.4\n",
       "44. 5\n",
       "45. 5.1\n",
       "46. 4.8\n",
       "47. 5.1\n",
       "48. 4.6\n",
       "49. 5.3\n",
       "50. 5\n",
       "51. 7\n",
       "52. 6.4\n",
       "53. 6.9\n",
       "54. 5.5\n",
       "55. 6.5\n",
       "56. 5.7\n",
       "57. 6.3\n",
       "58. 4.9\n",
       "59. 6.6\n",
       "60. 5.2\n",
       "61. 5\n",
       "62. 5.9\n",
       "63. 6\n",
       "64. 6.1\n",
       "65. 5.6\n",
       "66. 6.7\n",
       "67. 5.6\n",
       "68. 5.8\n",
       "69. 6.2\n",
       "70. 5.6\n",
       "71. 5.9\n",
       "72. 6.1\n",
       "73. 6.3\n",
       "74. 6.1\n",
       "75. 6.4\n",
       "76. 6.6\n",
       "77. 6.8\n",
       "78. 6.7\n",
       "79. 6\n",
       "80. 5.7\n",
       "81. 5.5\n",
       "82. 5.5\n",
       "83. 5.8\n",
       "84. 6\n",
       "85. 5.4\n",
       "86. 6\n",
       "87. 6.7\n",
       "88. 6.3\n",
       "89. 5.6\n",
       "90. 5.5\n",
       "91. 5.5\n",
       "92. 6.1\n",
       "93. 5.8\n",
       "94. 5\n",
       "95. 5.6\n",
       "96. 5.7\n",
       "97. 5.7\n",
       "98. 6.2\n",
       "99. 5.1\n",
       "100. 5.7\n",
       "101. 6.3\n",
       "102. 5.8\n",
       "103. 7.1\n",
       "104. 6.3\n",
       "105. 6.5\n",
       "106. 7.6\n",
       "107. 4.9\n",
       "108. 7.3\n",
       "109. 6.7\n",
       "110. 7.2\n",
       "111. 6.5\n",
       "112. 6.4\n",
       "113. 6.8\n",
       "114. 5.7\n",
       "115. 5.8\n",
       "116. 6.4\n",
       "117. 6.5\n",
       "118. 7.7\n",
       "119. 7.7\n",
       "120. 6\n",
       "121. 6.9\n",
       "122. 5.6\n",
       "123. 7.7\n",
       "124. 6.3\n",
       "125. 6.7\n",
       "126. 7.2\n",
       "127. 6.2\n",
       "128. 6.1\n",
       "129. 6.4\n",
       "130. 7.2\n",
       "131. 7.4\n",
       "132. 7.9\n",
       "133. 6.4\n",
       "134. 6.3\n",
       "135. 6.1\n",
       "136. 7.7\n",
       "137. 6.3\n",
       "138. 6.4\n",
       "139. 6\n",
       "140. 6.9\n",
       "141. 6.7\n",
       "142. 6.9\n",
       "143. 5.8\n",
       "144. 6.8\n",
       "145. 6.7\n",
       "146. 6.7\n",
       "147. 6.3\n",
       "148. 6.5\n",
       "149. 6.2\n",
       "150. 5.9\n",
       "\n",
       "\n"
      ],
      "text/plain": [
       "  [1] 5.1 4.9 4.7 4.6 5.0 5.4 4.6 5.0 4.4 4.9 5.4 4.8 4.8 4.3 5.8 5.7 5.4 5.1\n",
       " [19] 5.7 5.1 5.4 5.1 4.6 5.1 4.8 5.0 5.0 5.2 5.2 4.7 4.8 5.4 5.2 5.5 4.9 5.0\n",
       " [37] 5.5 4.9 4.4 5.1 5.0 4.5 4.4 5.0 5.1 4.8 5.1 4.6 5.3 5.0 7.0 6.4 6.9 5.5\n",
       " [55] 6.5 5.7 6.3 4.9 6.6 5.2 5.0 5.9 6.0 6.1 5.6 6.7 5.6 5.8 6.2 5.6 5.9 6.1\n",
       " [73] 6.3 6.1 6.4 6.6 6.8 6.7 6.0 5.7 5.5 5.5 5.8 6.0 5.4 6.0 6.7 6.3 5.6 5.5\n",
       " [91] 5.5 6.1 5.8 5.0 5.6 5.7 5.7 6.2 5.1 5.7 6.3 5.8 7.1 6.3 6.5 7.6 4.9 7.3\n",
       "[109] 6.7 7.2 6.5 6.4 6.8 5.7 5.8 6.4 6.5 7.7 7.7 6.0 6.9 5.6 7.7 6.3 6.7 7.2\n",
       "[127] 6.2 6.1 6.4 7.2 7.4 7.9 6.4 6.3 6.1 7.7 6.3 6.4 6.0 6.9 6.7 6.9 5.8 6.8\n",
       "[145] 6.7 6.7 6.3 6.5 6.2 5.9"
      ]
     },
     "metadata": {},
     "output_type": "display_data"
    }
   ],
   "source": [
    "iris[[1]]"
   ]
  },
  {
   "cell_type": "code",
   "execution_count": 192,
   "metadata": {},
   "outputs": [],
   "source": [
    "cr <- cor.test(iris[[1]], iris[[2]])"
   ]
  },
  {
   "cell_type": "code",
   "execution_count": 193,
   "metadata": {},
   "outputs": [
    {
     "data": {
      "text/plain": [
       "\n",
       "\tPearson's product-moment correlation\n",
       "\n",
       "data:  iris[[1]] and iris[[2]]\n",
       "t = -1.4403, df = 148, p-value = 0.1519\n",
       "alternative hypothesis: true correlation is not equal to 0\n",
       "95 percent confidence interval:\n",
       " -0.27269325  0.04351158\n",
       "sample estimates:\n",
       "       cor \n",
       "-0.1175698 \n"
      ]
     },
     "metadata": {},
     "output_type": "display_data"
    }
   ],
   "source": [
    "cr"
   ]
  },
  {
   "cell_type": "code",
   "execution_count": 194,
   "metadata": {},
   "outputs": [
    {
     "data": {
      "text/html": [
       "0.151898260711448"
      ],
      "text/latex": [
       "0.151898260711448"
      ],
      "text/markdown": [
       "0.151898260711448"
      ],
      "text/plain": [
       "[1] 0.1518983"
      ]
     },
     "metadata": {},
     "output_type": "display_data"
    }
   ],
   "source": [
    "cr$p.value"
   ]
  },
  {
   "cell_type": "code",
   "execution_count": 195,
   "metadata": {},
   "outputs": [
    {
     "data": {
      "text/html": [
       "<strong>cor:</strong> -0.117569784133002"
      ],
      "text/latex": [
       "\\textbf{cor:} -0.117569784133002"
      ],
      "text/markdown": [
       "**cor:** -0.117569784133002"
      ],
      "text/plain": [
       "       cor \n",
       "-0.1175698 "
      ]
     },
     "metadata": {},
     "output_type": "display_data"
    }
   ],
   "source": [
    "cr$estimate"
   ]
  },
  {
   "cell_type": "markdown",
   "metadata": {},
   "source": [
    "### Task 6"
   ]
  },
  {
   "cell_type": "code",
   "execution_count": 199,
   "metadata": {},
   "outputs": [
    {
     "data": {
      "text/html": [
       "'There is no sense in prediction'"
      ],
      "text/latex": [
       "'There is no sense in prediction'"
      ],
      "text/markdown": [
       "'There is no sense in prediction'"
      ],
      "text/plain": [
       "[1] \"There is no sense in prediction\""
      ]
     },
     "metadata": {},
     "output_type": "display_data"
    }
   ],
   "source": [
    "my_df = iris[,1:2]\n",
    "head(regr.calc(my_df))"
   ]
  },
  {
   "cell_type": "code",
   "execution_count": 198,
   "metadata": {},
   "outputs": [
    {
     "data": {
      "text/html": [
       "<table>\n",
       "<thead><tr><th scope=col>Sepal.Length</th><th scope=col>Petal.Width</th><th scope=col>fit</th></tr></thead>\n",
       "<tbody>\n",
       "\t<tr><td>5.1     </td><td>0.2     </td><td>4.955345</td></tr>\n",
       "\t<tr><td>4.9     </td><td>0.2     </td><td>4.955345</td></tr>\n",
       "\t<tr><td>4.7     </td><td>0.2     </td><td>4.955345</td></tr>\n",
       "\t<tr><td>4.6     </td><td>0.2     </td><td>4.955345</td></tr>\n",
       "\t<tr><td>5.0     </td><td>0.2     </td><td>4.955345</td></tr>\n",
       "</tbody>\n",
       "</table>\n"
      ],
      "text/latex": [
       "\\begin{tabular}{r|lll}\n",
       " Sepal.Length & Petal.Width & fit\\\\\n",
       "\\hline\n",
       "\t 5.1      & 0.2      & 4.955345\\\\\n",
       "\t 4.9      & 0.2      & 4.955345\\\\\n",
       "\t 4.7      & 0.2      & 4.955345\\\\\n",
       "\t 4.6      & 0.2      & 4.955345\\\\\n",
       "\t 5.0      & 0.2      & 4.955345\\\\\n",
       "\\end{tabular}\n"
      ],
      "text/markdown": [
       "\n",
       "Sepal.Length | Petal.Width | fit | \n",
       "|---|---|---|---|---|\n",
       "| 5.1      | 0.2      | 4.955345 | \n",
       "| 4.9      | 0.2      | 4.955345 | \n",
       "| 4.7      | 0.2      | 4.955345 | \n",
       "| 4.6      | 0.2      | 4.955345 | \n",
       "| 5.0      | 0.2      | 4.955345 | \n",
       "\n",
       "\n"
      ],
      "text/plain": [
       "  Sepal.Length Petal.Width fit     \n",
       "1 5.1          0.2         4.955345\n",
       "2 4.9          0.2         4.955345\n",
       "3 4.7          0.2         4.955345\n",
       "4 4.6          0.2         4.955345\n",
       "5 5.0          0.2         4.955345"
      ]
     },
     "metadata": {},
     "output_type": "display_data"
    }
   ],
   "source": [
    "my_df = iris[,c(1,4)]\n",
    "head(regr.calc(my_df), 5)"
   ]
  },
  {
   "cell_type": "code",
   "execution_count": 196,
   "metadata": {},
   "outputs": [],
   "source": [
    "regr.calc <- function(x){\n",
    "    alpha = 0.05\n",
    "    \n",
    "    cor_res <- cor.test(x[[1]], x[[2]], method = \"pearson\")\n",
    "    res <- \"There is no sense in prediction\"\n",
    "    \n",
    "    if (cor_res$p.value < alpha) {\n",
    "        fit  <- lm(x[[1]] ~ x[[2]], x)\n",
    "        res <- summary(fit)\n",
    "        res  <- data.frame(x, fit = fit$fitted.values)\n",
    "    }\n",
    "    \n",
    "    res\n",
    "}"
   ]
  },
  {
   "cell_type": "markdown",
   "metadata": {},
   "source": [
    "### Task 7"
   ]
  },
  {
   "cell_type": "code",
   "execution_count": 213,
   "metadata": {},
   "outputs": [
    {
     "data": {
      "image/png": "[encoded data removed]",
      "text/plain": [
       "plot without title"
      ]
     },
     "metadata": {},
     "output_type": "display_data"
    }
   ],
   "source": [
    "library(ggplot2)\n",
    "\n",
    "my_plot <- ggplot(\n",
    "        iris,\n",
    "        aes(\n",
    "            iris$Sepal.Width,\n",
    "            iris$Petal.Width,\n",
    "            col = factor(iris$Species)\n",
    "        )\n",
    "    ) +\n",
    "    geom_point(size = 3) +\n",
    "    geom_smooth(method = \"lm\", size = 1)\n",
    "\n",
    "print(my_plot)"
   ]
  }
 ],
 "metadata": {
  "kernelspec": {
   "display_name": "R 3.4",
   "language": "R",
   "name": "ir34"
  },
  "language_info": {
   "codemirror_mode": "r",
   "file_extension": ".r",
   "mimetype": "text/x-r-source",
   "name": "R",
   "pygments_lexer": "r",
   "version": "3.4.4"
  }
 },
 "nbformat": 4,
 "nbformat_minor": 2
}
