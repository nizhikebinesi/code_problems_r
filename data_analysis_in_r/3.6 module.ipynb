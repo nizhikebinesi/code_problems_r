{
 "cells": [
  {
   "cell_type": "markdown",
   "metadata": {},
   "source": [
    "## 3.6\n",
    "### Task 1"
   ]
  },
  {
   "cell_type": "code",
   "execution_count": 1,
   "metadata": {},
   "outputs": [
    {
     "data": {
      "text/html": [
       "<table>\n",
       "<thead><tr><th></th><th scope=col>mpg</th><th scope=col>cyl</th><th scope=col>disp</th><th scope=col>hp</th><th scope=col>drat</th><th scope=col>wt</th><th scope=col>qsec</th><th scope=col>vs</th><th scope=col>am</th><th scope=col>gear</th><th scope=col>carb</th></tr></thead>\n",
       "<tbody>\n",
       "\t<tr><th scope=row>Mazda RX4</th><td>21.0 </td><td>6    </td><td>160  </td><td>110  </td><td>3.90 </td><td>2.620</td><td>16.46</td><td>0    </td><td>1    </td><td>4    </td><td>4    </td></tr>\n",
       "\t<tr><th scope=row>Mazda RX4 Wag</th><td>21.0 </td><td>6    </td><td>160  </td><td>110  </td><td>3.90 </td><td>2.875</td><td>17.02</td><td>0    </td><td>1    </td><td>4    </td><td>4    </td></tr>\n",
       "\t<tr><th scope=row>Datsun 710</th><td>22.8 </td><td>4    </td><td>108  </td><td> 93  </td><td>3.85 </td><td>2.320</td><td>18.61</td><td>1    </td><td>1    </td><td>4    </td><td>1    </td></tr>\n",
       "\t<tr><th scope=row>Hornet 4 Drive</th><td>21.4 </td><td>6    </td><td>258  </td><td>110  </td><td>3.08 </td><td>3.215</td><td>19.44</td><td>1    </td><td>0    </td><td>3    </td><td>1    </td></tr>\n",
       "\t<tr><th scope=row>Hornet Sportabout</th><td>18.7 </td><td>8    </td><td>360  </td><td>175  </td><td>3.15 </td><td>3.440</td><td>17.02</td><td>0    </td><td>0    </td><td>3    </td><td>2    </td></tr>\n",
       "\t<tr><th scope=row>Valiant</th><td>18.1 </td><td>6    </td><td>225  </td><td>105  </td><td>2.76 </td><td>3.460</td><td>20.22</td><td>1    </td><td>0    </td><td>3    </td><td>1    </td></tr>\n",
       "</tbody>\n",
       "</table>\n"
      ],
      "text/latex": [
       "\\begin{tabular}{r|lllllllllll}\n",
       "  & mpg & cyl & disp & hp & drat & wt & qsec & vs & am & gear & carb\\\\\n",
       "\\hline\n",
       "\tMazda RX4 & 21.0  & 6     & 160   & 110   & 3.90  & 2.620 & 16.46 & 0     & 1     & 4     & 4    \\\\\n",
       "\tMazda RX4 Wag & 21.0  & 6     & 160   & 110   & 3.90  & 2.875 & 17.02 & 0     & 1     & 4     & 4    \\\\\n",
       "\tDatsun 710 & 22.8  & 4     & 108   &  93   & 3.85  & 2.320 & 18.61 & 1     & 1     & 4     & 1    \\\\\n",
       "\tHornet 4 Drive & 21.4  & 6     & 258   & 110   & 3.08  & 3.215 & 19.44 & 1     & 0     & 3     & 1    \\\\\n",
       "\tHornet Sportabout & 18.7  & 8     & 360   & 175   & 3.15  & 3.440 & 17.02 & 0     & 0     & 3     & 2    \\\\\n",
       "\tValiant & 18.1  & 6     & 225   & 105   & 2.76  & 3.460 & 20.22 & 1     & 0     & 3     & 1    \\\\\n",
       "\\end{tabular}\n"
      ],
      "text/markdown": [
       "\n",
       "| <!--/--> | mpg | cyl | disp | hp | drat | wt | qsec | vs | am | gear | carb | \n",
       "|---|---|---|---|---|---|\n",
       "| Mazda RX4 | 21.0  | 6     | 160   | 110   | 3.90  | 2.620 | 16.46 | 0     | 1     | 4     | 4     | \n",
       "| Mazda RX4 Wag | 21.0  | 6     | 160   | 110   | 3.90  | 2.875 | 17.02 | 0     | 1     | 4     | 4     | \n",
       "| Datsun 710 | 22.8  | 4     | 108   |  93   | 3.85  | 2.320 | 18.61 | 1     | 1     | 4     | 1     | \n",
       "| Hornet 4 Drive | 21.4  | 6     | 258   | 110   | 3.08  | 3.215 | 19.44 | 1     | 0     | 3     | 1     | \n",
       "| Hornet Sportabout | 18.7  | 8     | 360   | 175   | 3.15  | 3.440 | 17.02 | 0     | 0     | 3     | 2     | \n",
       "| Valiant | 18.1  | 6     | 225   | 105   | 2.76  | 3.460 | 20.22 | 1     | 0     | 3     | 1     | \n",
       "\n",
       "\n"
      ],
      "text/plain": [
       "                  mpg  cyl disp hp  drat wt    qsec  vs am gear carb\n",
       "Mazda RX4         21.0 6   160  110 3.90 2.620 16.46 0  1  4    4   \n",
       "Mazda RX4 Wag     21.0 6   160  110 3.90 2.875 17.02 0  1  4    4   \n",
       "Datsun 710        22.8 4   108   93 3.85 2.320 18.61 1  1  4    1   \n",
       "Hornet 4 Drive    21.4 6   258  110 3.08 3.215 19.44 1  0  3    1   \n",
       "Hornet Sportabout 18.7 8   360  175 3.15 3.440 17.02 0  0  3    2   \n",
       "Valiant           18.1 6   225  105 2.76 3.460 20.22 1  0  3    1   "
      ]
     },
     "metadata": {},
     "output_type": "display_data"
    }
   ],
   "source": [
    "head(mtcars)"
   ]
  },
  {
   "cell_type": "code",
   "execution_count": 6,
   "metadata": {},
   "outputs": [
    {
     "data": {
      "text/plain": [
       "\n",
       "Call:\n",
       "glm(formula = am ~ disp + vs + mpg, family = \"binomial\", data = mtcars)\n",
       "\n",
       "Deviance Residuals: \n",
       "    Min       1Q   Median       3Q      Max  \n",
       "-1.1115  -0.5412  -0.1474   0.2127   2.2639  \n",
       "\n",
       "Coefficients:\n",
       "            Estimate Std. Error z value Pr(>|z|)  \n",
       "(Intercept)  1.89136    7.26516   0.260   0.7946  \n",
       "disp        -0.02525    0.01562  -1.617   0.1059  \n",
       "vs          -5.45385    2.79897  -1.949   0.0514 .\n",
       "mpg          0.28419    0.24442   1.163   0.2450  \n",
       "---\n",
       "Signif. codes:  0 ‘***’ 0.001 ‘**’ 0.01 ‘*’ 0.05 ‘.’ 0.1 ‘ ’ 1\n",
       "\n",
       "(Dispersion parameter for binomial family taken to be 1)\n",
       "\n",
       "    Null deviance: 43.23  on 31  degrees of freedom\n",
       "Residual deviance: 19.90  on 28  degrees of freedom\n",
       "AIC: 27.9\n",
       "\n",
       "Number of Fisher Scoring iterations: 6\n"
      ]
     },
     "metadata": {},
     "output_type": "display_data"
    }
   ],
   "source": [
    "fit <- glm(am ~ disp + vs + mpg, data = mtcars, family = 'binomial')\n",
    "summary(fit)"
   ]
  },
  {
   "cell_type": "code",
   "execution_count": 7,
   "metadata": {},
   "outputs": [
    {
     "data": {
      "text/html": [
       "<dl class=dl-horizontal>\n",
       "\t<dt>(Intercept)</dt>\n",
       "\t\t<dd>1.89136001281359</dd>\n",
       "\t<dt>disp</dt>\n",
       "\t\t<dd>-0.0252535408938702</dd>\n",
       "\t<dt>vs</dt>\n",
       "\t\t<dd>-5.45384568584862</dd>\n",
       "\t<dt>mpg</dt>\n",
       "\t\t<dd>0.284188285572533</dd>\n",
       "</dl>\n"
      ],
      "text/latex": [
       "\\begin{description*}\n",
       "\\item[(Intercept)] 1.89136001281359\n",
       "\\item[disp] -0.0252535408938702\n",
       "\\item[vs] -5.45384568584862\n",
       "\\item[mpg] 0.284188285572533\n",
       "\\end{description*}\n"
      ],
      "text/markdown": [
       "(Intercept)\n",
       ":   1.89136001281359disp\n",
       ":   -0.0252535408938702vs\n",
       ":   -5.45384568584862mpg\n",
       ":   0.284188285572533\n",
       "\n"
      ],
      "text/plain": [
       "(Intercept)        disp          vs         mpg \n",
       " 1.89136001 -0.02525354 -5.45384569  0.28418829 "
      ]
     },
     "metadata": {},
     "output_type": "display_data"
    }
   ],
   "source": [
    "fit$coefficients"
   ]
  },
  {
   "cell_type": "markdown",
   "metadata": {},
   "source": [
    "### Task 2"
   ]
  },
  {
   "cell_type": "code",
   "execution_count": 32,
   "metadata": {},
   "outputs": [
    {
     "data": {},
     "metadata": {},
     "output_type": "display_data"
    },
    {
     "data": {
      "image/png": "[encoded data removed]",
      "text/plain": [
       "plot without title"
      ]
     },
     "metadata": {},
     "output_type": "display_data"
    }
   ],
   "source": [
    "library(\"ggplot2\")\n",
    "\n",
    "obj <- ggplot(data = ToothGrowth, aes(x = supp, y = len, fill = dose)) +\n",
    "    geom_boxplot()\n",
    "\n",
    "obj"
   ]
  },
  {
   "cell_type": "markdown",
   "metadata": {},
   "source": [
    "### Question 1"
   ]
  },
  {
   "cell_type": "code",
   "execution_count": 39,
   "metadata": {},
   "outputs": [],
   "source": [
    "df <- read.csv('https://stepic.org/media/attachments/lesson/11478/data.csv')"
   ]
  },
  {
   "cell_type": "code",
   "execution_count": 40,
   "metadata": {},
   "outputs": [
    {
     "data": {
      "text/html": [
       "<table>\n",
       "<thead><tr><th scope=col>admit</th><th scope=col>gre</th><th scope=col>gpa</th><th scope=col>rank</th></tr></thead>\n",
       "<tbody>\n",
       "\t<tr><td> 0  </td><td>380 </td><td>3.61</td><td>3   </td></tr>\n",
       "\t<tr><td> 1  </td><td>660 </td><td>3.67</td><td>3   </td></tr>\n",
       "\t<tr><td>NA  </td><td>800 </td><td>4.00</td><td>1   </td></tr>\n",
       "\t<tr><td>NA  </td><td>640 </td><td>3.19</td><td>4   </td></tr>\n",
       "\t<tr><td> 0  </td><td>520 </td><td>2.93</td><td>4   </td></tr>\n",
       "\t<tr><td> 1  </td><td>760 </td><td>3.00</td><td>2   </td></tr>\n",
       "</tbody>\n",
       "</table>\n"
      ],
      "text/latex": [
       "\\begin{tabular}{r|llll}\n",
       " admit & gre & gpa & rank\\\\\n",
       "\\hline\n",
       "\t  0   & 380  & 3.61 & 3   \\\\\n",
       "\t  1   & 660  & 3.67 & 3   \\\\\n",
       "\t NA   & 800  & 4.00 & 1   \\\\\n",
       "\t NA   & 640  & 3.19 & 4   \\\\\n",
       "\t  0   & 520  & 2.93 & 4   \\\\\n",
       "\t  1   & 760  & 3.00 & 2   \\\\\n",
       "\\end{tabular}\n"
      ],
      "text/markdown": [
       "\n",
       "admit | gre | gpa | rank | \n",
       "|---|---|---|---|---|---|\n",
       "|  0   | 380  | 3.61 | 3    | \n",
       "|  1   | 660  | 3.67 | 3    | \n",
       "| NA   | 800  | 4.00 | 1    | \n",
       "| NA   | 640  | 3.19 | 4    | \n",
       "|  0   | 520  | 2.93 | 4    | \n",
       "|  1   | 760  | 3.00 | 2    | \n",
       "\n",
       "\n"
      ],
      "text/plain": [
       "  admit gre gpa  rank\n",
       "1  0    380 3.61 3   \n",
       "2  1    660 3.67 3   \n",
       "3 NA    800 4.00 1   \n",
       "4 NA    640 3.19 4   \n",
       "5  0    520 2.93 4   \n",
       "6  1    760 3.00 2   "
      ]
     },
     "metadata": {},
     "output_type": "display_data"
    }
   ],
   "source": [
    "head(df)"
   ]
  },
  {
   "cell_type": "code",
   "execution_count": 49,
   "metadata": {},
   "outputs": [],
   "source": [
    "df$admit <- as.factor(df$admit)\n",
    "df$rank <- as.factor(df$rank)\n",
    "\n",
    "train <- df[!is.na(df$admit), ]\n",
    "final <- df[is.na(df$admit), ]"
   ]
  },
  {
   "cell_type": "code",
   "execution_count": 50,
   "metadata": {},
   "outputs": [
    {
     "data": {
      "text/html": [
       "<table>\n",
       "<thead><tr><th></th><th scope=col>admit</th><th scope=col>gre</th><th scope=col>gpa</th><th scope=col>rank</th></tr></thead>\n",
       "<tbody>\n",
       "\t<tr><th scope=row>1</th><td>0   </td><td>380 </td><td>3.61</td><td>3   </td></tr>\n",
       "\t<tr><th scope=row>2</th><td>1   </td><td>660 </td><td>3.67</td><td>3   </td></tr>\n",
       "\t<tr><th scope=row>5</th><td>0   </td><td>520 </td><td>2.93</td><td>4   </td></tr>\n",
       "\t<tr><th scope=row>6</th><td>1   </td><td>760 </td><td>3.00</td><td>2   </td></tr>\n",
       "\t<tr><th scope=row>9</th><td>1   </td><td>540 </td><td>3.39</td><td>3   </td></tr>\n",
       "\t<tr><th scope=row>10</th><td>0   </td><td>700 </td><td>3.92</td><td>2   </td></tr>\n",
       "</tbody>\n",
       "</table>\n"
      ],
      "text/latex": [
       "\\begin{tabular}{r|llll}\n",
       "  & admit & gre & gpa & rank\\\\\n",
       "\\hline\n",
       "\t1 & 0    & 380  & 3.61 & 3   \\\\\n",
       "\t2 & 1    & 660  & 3.67 & 3   \\\\\n",
       "\t5 & 0    & 520  & 2.93 & 4   \\\\\n",
       "\t6 & 1    & 760  & 3.00 & 2   \\\\\n",
       "\t9 & 1    & 540  & 3.39 & 3   \\\\\n",
       "\t10 & 0    & 700  & 3.92 & 2   \\\\\n",
       "\\end{tabular}\n"
      ],
      "text/markdown": [
       "\n",
       "| <!--/--> | admit | gre | gpa | rank | \n",
       "|---|---|---|---|---|---|\n",
       "| 1 | 0    | 380  | 3.61 | 3    | \n",
       "| 2 | 1    | 660  | 3.67 | 3    | \n",
       "| 5 | 0    | 520  | 2.93 | 4    | \n",
       "| 6 | 1    | 760  | 3.00 | 2    | \n",
       "| 9 | 1    | 540  | 3.39 | 3    | \n",
       "| 10 | 0    | 700  | 3.92 | 2    | \n",
       "\n",
       "\n"
      ],
      "text/plain": [
       "   admit gre gpa  rank\n",
       "1  0     380 3.61 3   \n",
       "2  1     660 3.67 3   \n",
       "5  0     520 2.93 4   \n",
       "6  1     760 3.00 2   \n",
       "9  1     540 3.39 3   \n",
       "10 0     700 3.92 2   "
      ]
     },
     "metadata": {},
     "output_type": "display_data"
    }
   ],
   "source": [
    "head(train)"
   ]
  },
  {
   "cell_type": "code",
   "execution_count": 51,
   "metadata": {},
   "outputs": [
    {
     "data": {
      "text/html": [
       "<table>\n",
       "<thead><tr><th></th><th scope=col>admit</th><th scope=col>gre</th><th scope=col>gpa</th><th scope=col>rank</th></tr></thead>\n",
       "<tbody>\n",
       "\t<tr><th scope=row>3</th><td>NA  </td><td>800 </td><td>4.00</td><td>1   </td></tr>\n",
       "\t<tr><th scope=row>4</th><td>NA  </td><td>640 </td><td>3.19</td><td>4   </td></tr>\n",
       "\t<tr><th scope=row>7</th><td>NA  </td><td>560 </td><td>2.98</td><td>1   </td></tr>\n",
       "\t<tr><th scope=row>8</th><td>NA  </td><td>400 </td><td>3.08</td><td>2   </td></tr>\n",
       "\t<tr><th scope=row>11</th><td>NA  </td><td>800 </td><td>4.00</td><td>4   </td></tr>\n",
       "\t<tr><th scope=row>12</th><td>NA  </td><td>440 </td><td>3.22</td><td>1   </td></tr>\n",
       "</tbody>\n",
       "</table>\n"
      ],
      "text/latex": [
       "\\begin{tabular}{r|llll}\n",
       "  & admit & gre & gpa & rank\\\\\n",
       "\\hline\n",
       "\t3 & NA   & 800  & 4.00 & 1   \\\\\n",
       "\t4 & NA   & 640  & 3.19 & 4   \\\\\n",
       "\t7 & NA   & 560  & 2.98 & 1   \\\\\n",
       "\t8 & NA   & 400  & 3.08 & 2   \\\\\n",
       "\t11 & NA   & 800  & 4.00 & 4   \\\\\n",
       "\t12 & NA   & 440  & 3.22 & 1   \\\\\n",
       "\\end{tabular}\n"
      ],
      "text/markdown": [
       "\n",
       "| <!--/--> | admit | gre | gpa | rank | \n",
       "|---|---|---|---|---|---|\n",
       "| 3 | NA   | 800  | 4.00 | 1    | \n",
       "| 4 | NA   | 640  | 3.19 | 4    | \n",
       "| 7 | NA   | 560  | 2.98 | 1    | \n",
       "| 8 | NA   | 400  | 3.08 | 2    | \n",
       "| 11 | NA   | 800  | 4.00 | 4    | \n",
       "| 12 | NA   | 440  | 3.22 | 1    | \n",
       "\n",
       "\n"
      ],
      "text/plain": [
       "   admit gre gpa  rank\n",
       "3  NA    800 4.00 1   \n",
       "4  NA    640 3.19 4   \n",
       "7  NA    560 2.98 1   \n",
       "8  NA    400 3.08 2   \n",
       "11 NA    800 4.00 4   \n",
       "12 NA    440 3.22 1   "
      ]
     },
     "metadata": {},
     "output_type": "display_data"
    }
   ],
   "source": [
    "head(final)"
   ]
  },
  {
   "cell_type": "code",
   "execution_count": 52,
   "metadata": {},
   "outputs": [],
   "source": [
    "fit <- glm(admit ~ rank * gpa, data = train, family = 'binomial')"
   ]
  },
  {
   "cell_type": "code",
   "execution_count": 56,
   "metadata": {},
   "outputs": [
    {
     "data": {
      "text/html": [
       "56"
      ],
      "text/latex": [
       "56"
      ],
      "text/markdown": [
       "56"
      ],
      "text/plain": [
       "[1] 56"
      ]
     },
     "metadata": {},
     "output_type": "display_data"
    }
   ],
   "source": [
    "sum(predict(fit, final, type = 'response') >= 0.4)"
   ]
  }
 ],
 "metadata": {
  "kernelspec": {
   "display_name": "R 3.4",
   "language": "R",
   "name": "ir34"
  },
  "language_info": {
   "codemirror_mode": "r",
   "file_extension": ".r",
   "mimetype": "text/x-r-source",
   "name": "R",
   "pygments_lexer": "r",
   "version": "3.4.4"
  }
 },
 "nbformat": 4,
 "nbformat_minor": 2
}
