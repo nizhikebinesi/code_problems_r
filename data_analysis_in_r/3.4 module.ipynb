{
 "cells": [
  {
   "cell_type": "markdown",
   "metadata": {},
   "source": [
    "## 3.4\n",
    "### Question 1"
   ]
  },
  {
   "cell_type": "code",
   "execution_count": 1,
   "metadata": {},
   "outputs": [],
   "source": [
    "my_vector <- c(0.027, 0.079, 0.307, 0.098, 0.021, 0.091, 0.322, 0.211, 0.069, 0.261, 0.241, 0.166, 0.283, 0.041, 0.369, 0.167, 0.001, 0.053, 0.262, 0.033, 0.457, 0.166, 0.344, 0.139, 0.162, 0.152, 0.107, 0.255, 0.037, 0.005, 0.042, 0.220, 0.283, 0.050, 0.194, 0.018, 0.291, 0.037, 0.085, 0.004, 0.265, 0.218, 0.071, 0.213, 0.232, 0.024, 0.049, 0.431, 0.061, 0.523)"
   ]
  },
  {
   "cell_type": "code",
   "execution_count": 2,
   "metadata": {},
   "outputs": [
    {
     "data": {
      "text/plain": [
       "\n",
       "\tShapiro-Wilk normality test\n",
       "\n",
       "data:  1/my_vector\n",
       "W = 0.25593, p-value = 1.704e-14\n"
      ]
     },
     "metadata": {},
     "output_type": "display_data"
    }
   ],
   "source": [
    "shapiro.test(1 / my_vector)"
   ]
  },
  {
   "cell_type": "code",
   "execution_count": 3,
   "metadata": {},
   "outputs": [
    {
     "data": {
      "text/plain": [
       "\n",
       "\tShapiro-Wilk normality test\n",
       "\n",
       "data:  sqrt(my_vector)\n",
       "W = 0.97184, p-value = 0.2745\n"
      ]
     },
     "metadata": {},
     "output_type": "display_data"
    }
   ],
   "source": [
    "shapiro.test(sqrt(my_vector))"
   ]
  },
  {
   "cell_type": "code",
   "execution_count": 4,
   "metadata": {},
   "outputs": [
    {
     "data": {
      "text/plain": [
       "\n",
       "\tShapiro-Wilk normality test\n",
       "\n",
       "data:  log(my_vector)\n",
       "W = 0.88094, p-value = 0.0001195\n"
      ]
     },
     "metadata": {},
     "output_type": "display_data"
    }
   ],
   "source": [
    "shapiro.test(log(my_vector))"
   ]
  },
  {
   "cell_type": "markdown",
   "metadata": {},
   "source": [
    "### Task 1"
   ]
  },
  {
   "cell_type": "code",
   "execution_count": 5,
   "metadata": {},
   "outputs": [],
   "source": [
    "?scale"
   ]
  },
  {
   "cell_type": "code",
   "execution_count": 12,
   "metadata": {},
   "outputs": [
    {
     "data": {
      "text/plain": [
       "\n",
       "Call:\n",
       "lm(formula = x[[1]] ~ x[[2]], data = x)\n",
       "\n",
       "Coefficients:\n",
       "(Intercept)       x[[2]]  \n",
       " -4.392e-17   -8.476e-01  \n"
      ]
     },
     "metadata": {},
     "output_type": "display_data"
    }
   ],
   "source": [
    "x <- data.frame(scale(mtcars[ , c(1,3)]))\n",
    "\n",
    "fit <- lm(x[[1]] ~ x[[2]], data = x)\n",
    "fit"
   ]
  },
  {
   "cell_type": "code",
   "execution_count": 13,
   "metadata": {},
   "outputs": [],
   "source": [
    "beta.coef <- function(x){\n",
    "    xx <- data.frame(scale(x))\n",
    "    return (lm(xx[[1]] ~ xx[[2]], data = xx)$coefficients)\n",
    "}"
   ]
  },
  {
   "cell_type": "markdown",
   "metadata": {},
   "source": [
    "Попробуем функцию, описанную в шаге 4:"
   ]
  },
  {
   "cell_type": "code",
   "execution_count": 14,
   "metadata": {},
   "outputs": [
    {
     "name": "stderr",
     "output_type": "stream",
     "text": [
      "Installing package into ‘/home/nizhikebinesi/R/x86_64-pc-linux-gnu-library/3.4’\n",
      "(as ‘lib’ is unspecified)\n"
     ]
    }
   ],
   "source": [
    "install.packages('QuantPsyc')"
   ]
  },
  {
   "cell_type": "code",
   "execution_count": 15,
   "metadata": {},
   "outputs": [
    {
     "name": "stderr",
     "output_type": "stream",
     "text": [
      "Loading required package: boot\n",
      "Loading required package: MASS\n",
      "\n",
      "Attaching package: ‘QuantPsyc’\n",
      "\n",
      "The following object is masked from ‘package:base’:\n",
      "\n",
      "    norm\n",
      "\n"
     ]
    }
   ],
   "source": [
    "library(QuantPsyc)"
   ]
  },
  {
   "cell_type": "code",
   "execution_count": 20,
   "metadata": {},
   "outputs": [
    {
     "data": {
      "text/plain": [
       "   Min. 1st Qu.  Median    Mean 3rd Qu.    Max. \n",
       "-0.8476 -0.8476 -0.8476 -0.8476 -0.8476 -0.8476 "
      ]
     },
     "metadata": {},
     "output_type": "display_data"
    }
   ],
   "source": [
    "summary(lm.beta(fit))"
   ]
  },
  {
   "cell_type": "markdown",
   "metadata": {},
   "source": [
    "### Task 2"
   ]
  },
  {
   "cell_type": "code",
   "execution_count": 21,
   "metadata": {},
   "outputs": [],
   "source": [
    "x <- mtcars[,1:6]"
   ]
  },
  {
   "cell_type": "code",
   "execution_count": 22,
   "metadata": {},
   "outputs": [
    {
     "data": {
      "text/html": [
       "<ol class=list-inline>\n",
       "\t<li>'mpg'</li>\n",
       "\t<li>'cyl'</li>\n",
       "\t<li>'disp'</li>\n",
       "\t<li>'hp'</li>\n",
       "\t<li>'drat'</li>\n",
       "\t<li>'wt'</li>\n",
       "</ol>\n"
      ],
      "text/latex": [
       "\\begin{enumerate*}\n",
       "\\item 'mpg'\n",
       "\\item 'cyl'\n",
       "\\item 'disp'\n",
       "\\item 'hp'\n",
       "\\item 'drat'\n",
       "\\item 'wt'\n",
       "\\end{enumerate*}\n"
      ],
      "text/markdown": [
       "1. 'mpg'\n",
       "2. 'cyl'\n",
       "3. 'disp'\n",
       "4. 'hp'\n",
       "5. 'drat'\n",
       "6. 'wt'\n",
       "\n",
       "\n"
      ],
      "text/plain": [
       "[1] \"mpg\"  \"cyl\"  \"disp\" \"hp\"   \"drat\" \"wt\"  "
      ]
     },
     "metadata": {},
     "output_type": "display_data"
    }
   ],
   "source": [
    "names(x)"
   ]
  },
  {
   "cell_type": "code",
   "execution_count": 34,
   "metadata": {},
   "outputs": [
    {
     "data": {
      "text/html": [
       "<table>\n",
       "<thead><tr><th></th><th scope=col>mpg</th><th scope=col>cyl</th><th scope=col>disp</th><th scope=col>hp</th><th scope=col>drat</th><th scope=col>wt</th></tr></thead>\n",
       "<tbody>\n",
       "\t<tr><th scope=row>statistic</th><td>0.9475647</td><td>0.75331  </td><td>0.9200127</td><td>0.9334193</td><td>0.9458839</td><td>0.9432577</td></tr>\n",
       "\t<tr><th scope=row>p.value</th><td>0.1228814   </td><td>6.058338e-06</td><td>0.02080657  </td><td>0.04880824  </td><td>0.1100608   </td><td>0.09265499  </td></tr>\n",
       "\t<tr><th scope=row>method</th><td>Shapiro-Wilk normality test</td><td>Shapiro-Wilk normality test</td><td>Shapiro-Wilk normality test</td><td>Shapiro-Wilk normality test</td><td>Shapiro-Wilk normality test</td><td>Shapiro-Wilk normality test</td></tr>\n",
       "\t<tr><th scope=row>data.name</th><td>X[[i]]</td><td>X[[i]]</td><td>X[[i]]</td><td>X[[i]]</td><td>X[[i]]</td><td>X[[i]]</td></tr>\n",
       "</tbody>\n",
       "</table>\n"
      ],
      "text/latex": [
       "\\begin{tabular}{r|llllll}\n",
       "  & mpg & cyl & disp & hp & drat & wt\\\\\n",
       "\\hline\n",
       "\tstatistic & 0.9475647 & 0.75331   & 0.9200127 & 0.9334193 & 0.9458839 & 0.9432577\\\\\n",
       "\tp.value & 0.1228814    & 6.058338e-06 & 0.02080657   & 0.04880824   & 0.1100608    & 0.09265499  \\\\\n",
       "\tmethod & Shapiro-Wilk normality test & Shapiro-Wilk normality test & Shapiro-Wilk normality test & Shapiro-Wilk normality test & Shapiro-Wilk normality test & Shapiro-Wilk normality test\\\\\n",
       "\tdata.name & X{[}{[}i{]}{]} & X{[}{[}i{]}{]} & X{[}{[}i{]}{]} & X{[}{[}i{]}{]} & X{[}{[}i{]}{]} & X{[}{[}i{]}{]}\\\\\n",
       "\\end{tabular}\n"
      ],
      "text/markdown": [
       "\n",
       "| <!--/--> | mpg | cyl | disp | hp | drat | wt | \n",
       "|---|---|---|---|\n",
       "| statistic | 0.9475647 | 0.75331   | 0.9200127 | 0.9334193 | 0.9458839 | 0.9432577 | \n",
       "| p.value | 0.1228814    | 6.058338e-06 | 0.02080657   | 0.04880824   | 0.1100608    | 0.09265499   | \n",
       "| method | Shapiro-Wilk normality test | Shapiro-Wilk normality test | Shapiro-Wilk normality test | Shapiro-Wilk normality test | Shapiro-Wilk normality test | Shapiro-Wilk normality test | \n",
       "| data.name | X[[i]] | X[[i]] | X[[i]] | X[[i]] | X[[i]] | X[[i]] | \n",
       "\n",
       "\n"
      ],
      "text/plain": [
       "          mpg                         cyl                        \n",
       "statistic 0.9475647                   0.75331                    \n",
       "p.value   0.1228814                   6.058338e-06               \n",
       "method    Shapiro-Wilk normality test Shapiro-Wilk normality test\n",
       "data.name X[[i]]                      X[[i]]                     \n",
       "          disp                        hp                         \n",
       "statistic 0.9200127                   0.9334193                  \n",
       "p.value   0.02080657                  0.04880824                 \n",
       "method    Shapiro-Wilk normality test Shapiro-Wilk normality test\n",
       "data.name X[[i]]                      X[[i]]                     \n",
       "          drat                        wt                         \n",
       "statistic 0.9458839                   0.9432577                  \n",
       "p.value   0.1100608                   0.09265499                 \n",
       "method    Shapiro-Wilk normality test Shapiro-Wilk normality test\n",
       "data.name X[[i]]                      X[[i]]                     "
      ]
     },
     "metadata": {},
     "output_type": "display_data"
    }
   ],
   "source": [
    "sapply(x, shapiro.test)"
   ]
  },
  {
   "cell_type": "code",
   "execution_count": 24,
   "metadata": {},
   "outputs": [
    {
     "data": {
      "text/plain": [
       "\n",
       "\tShapiro-Wilk normality test\n",
       "\n",
       "data:  x[[1]]\n",
       "W = 0.94756, p-value = 0.1229\n"
      ]
     },
     "metadata": {},
     "output_type": "display_data"
    }
   ],
   "source": [
    "shapiro.test(x[[1]])"
   ]
  },
  {
   "cell_type": "code",
   "execution_count": 30,
   "metadata": {},
   "outputs": [
    {
     "data": {
      "text/html": [
       "<dl class=dl-horizontal>\n",
       "\t<dt>mpg</dt>\n",
       "\t\t<dd>0.122881358539443</dd>\n",
       "\t<dt>cyl</dt>\n",
       "\t\t<dd>6.05833813310341e-06</dd>\n",
       "\t<dt>disp</dt>\n",
       "\t\t<dd>0.0208065696108598</dd>\n",
       "\t<dt>hp</dt>\n",
       "\t\t<dd>0.0488082381051741</dd>\n",
       "\t<dt>drat</dt>\n",
       "\t\t<dd>0.110060757426683</dd>\n",
       "\t<dt>wt</dt>\n",
       "\t\t<dd>0.0926549888932132</dd>\n",
       "</dl>\n"
      ],
      "text/latex": [
       "\\begin{description*}\n",
       "\\item[mpg] 0.122881358539443\n",
       "\\item[cyl] 6.05833813310341e-06\n",
       "\\item[disp] 0.0208065696108598\n",
       "\\item[hp] 0.0488082381051741\n",
       "\\item[drat] 0.110060757426683\n",
       "\\item[wt] 0.0926549888932132\n",
       "\\end{description*}\n"
      ],
      "text/markdown": [
       "mpg\n",
       ":   0.122881358539443cyl\n",
       ":   6.05833813310341e-06disp\n",
       ":   0.0208065696108598hp\n",
       ":   0.0488082381051741drat\n",
       ":   0.110060757426683wt\n",
       ":   0.0926549888932132\n",
       "\n"
      ],
      "text/plain": [
       "         mpg          cyl         disp           hp         drat           wt \n",
       "1.228814e-01 6.058338e-06 2.080657e-02 4.880824e-02 1.100608e-01 9.265499e-02 "
      ]
     },
     "metadata": {},
     "output_type": "display_data"
    }
   ],
   "source": [
    "fun <- function(x) {\n",
    "    shapiro.test(x)$p.value\n",
    "}\n",
    "sapply(x, fun)"
   ]
  },
  {
   "cell_type": "code",
   "execution_count": 31,
   "metadata": {},
   "outputs": [],
   "source": [
    "normality.test  <- function(x){\n",
    "    fun <- function(x) {\n",
    "        shapiro.test(x)$p.value\n",
    "    }\n",
    "    sapply(x, fun)\n",
    "}"
   ]
  },
  {
   "cell_type": "code",
   "execution_count": 32,
   "metadata": {},
   "outputs": [
    {
     "data": {
      "text/html": [
       "<dl class=dl-horizontal>\n",
       "\t<dt>mpg</dt>\n",
       "\t\t<dd>0.122881358539443</dd>\n",
       "\t<dt>cyl</dt>\n",
       "\t\t<dd>6.05833813310341e-06</dd>\n",
       "\t<dt>disp</dt>\n",
       "\t\t<dd>0.0208065696108598</dd>\n",
       "\t<dt>hp</dt>\n",
       "\t\t<dd>0.0488082381051741</dd>\n",
       "\t<dt>drat</dt>\n",
       "\t\t<dd>0.110060757426683</dd>\n",
       "\t<dt>wt</dt>\n",
       "\t\t<dd>0.0926549888932132</dd>\n",
       "</dl>\n"
      ],
      "text/latex": [
       "\\begin{description*}\n",
       "\\item[mpg] 0.122881358539443\n",
       "\\item[cyl] 6.05833813310341e-06\n",
       "\\item[disp] 0.0208065696108598\n",
       "\\item[hp] 0.0488082381051741\n",
       "\\item[drat] 0.110060757426683\n",
       "\\item[wt] 0.0926549888932132\n",
       "\\end{description*}\n"
      ],
      "text/markdown": [
       "mpg\n",
       ":   0.122881358539443cyl\n",
       ":   6.05833813310341e-06disp\n",
       ":   0.0208065696108598hp\n",
       ":   0.0488082381051741drat\n",
       ":   0.110060757426683wt\n",
       ":   0.0926549888932132\n",
       "\n"
      ],
      "text/plain": [
       "         mpg          cyl         disp           hp         drat           wt \n",
       "1.228814e-01 6.058338e-06 2.080657e-02 4.880824e-02 1.100608e-01 9.265499e-02 "
      ]
     },
     "metadata": {},
     "output_type": "display_data"
    }
   ],
   "source": [
    "normality.test(x)"
   ]
  }
 ],
 "metadata": {
  "kernelspec": {
   "display_name": "R 3.4",
   "language": "R",
   "name": "ir34"
  },
  "language_info": {
   "codemirror_mode": "r",
   "file_extension": ".r",
   "mimetype": "text/x-r-source",
   "name": "R",
   "pygments_lexer": "r",
   "version": "3.4.4"
  }
 },
 "nbformat": 4,
 "nbformat_minor": 2
}
